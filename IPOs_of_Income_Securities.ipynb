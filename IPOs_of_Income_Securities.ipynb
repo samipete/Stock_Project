{
 "cells": [
  {
   "cell_type": "code",
   "execution_count": 54,
   "id": "232d5040",
   "metadata": {},
   "outputs": [],
   "source": [
    "# import splinter and BeatifulSoup\n",
    "from splinter import Browser\n",
    "from bs4 import BeautifulSoup as soup\n",
    "from quant_up import user, password\n",
    "import time \n",
    "import datetime\n",
    "import pandas as pd"
   ]
  },
  {
   "cell_type": "code",
   "execution_count": 55,
   "id": "9a5e0470",
   "metadata": {},
   "outputs": [],
   "source": [
    "### Navigate to quantum online,input credentials and naviagte IPOS of income securities page"
   ]
  },
  {
   "cell_type": "code",
   "execution_count": 56,
   "id": "8921eda6",
   "metadata": {},
   "outputs": [
    {
     "data": {
      "text/plain": [
       "'2023-03-16'"
      ]
     },
     "execution_count": 56,
     "metadata": {},
     "output_type": "execute_result"
    }
   ],
   "source": [
    "## confirm todays date \n",
    "datetime.datetime.today().strftime(\"%Y-%m-%d\")"
   ]
  },
  {
   "cell_type": "code",
   "execution_count": 103,
   "id": "b57e6f23",
   "metadata": {},
   "outputs": [],
   "source": [
    "browser = Browser('chrome')"
   ]
  },
  {
   "cell_type": "code",
   "execution_count": 104,
   "id": "591e4385",
   "metadata": {},
   "outputs": [],
   "source": [
    "# Visit quantum\n",
    "url = 'https://www.quantumonline.com/listwipo.cfm?type=IncomeIPOs&RequestTimeout=90'\n",
    "browser.visit(url)"
   ]
  },
  {
   "cell_type": "code",
   "execution_count": 105,
   "id": "09ddc978",
   "metadata": {},
   "outputs": [],
   "source": [
    "# path to login click\n",
    "browser.find_by_xpath('/html/body/table[2]/tbody/tr/td[2]/font[2]/p[1]/b/a').click()\n"
   ]
  },
  {
   "cell_type": "code",
   "execution_count": 106,
   "id": "2aae0101",
   "metadata": {},
   "outputs": [],
   "source": [
    "# path to login click\n",
    "browser.find_by_xpath('/html/body/table/tbody/tr[2]/td/table/tbody/tr[3]/td[9]/a/img').click()\n"
   ]
  },
  {
   "cell_type": "code",
   "execution_count": 107,
   "id": "04dd2cbb",
   "metadata": {},
   "outputs": [],
   "source": [
    "#input user and pass\n",
    "\n",
    "browser.find_by_xpath('/html/body/table[2]/tbody/tr/td[2]/font/font/blockquote/center/font/table/tbody/tr[2]/td/input').fill(user)\n",
    "                      \n",
    "browser.find_by_xpath('/html/body/table[2]/tbody/tr/td[2]/font/font/blockquote/center/font/table/tbody/tr[3]/td/input').fill(password)\n",
    "\n",
    "# click\n",
    "browser.find_by_xpath('/html/body/table[2]/tbody/tr/td[2]/font/font/blockquote/center/font/table/tbody/tr[4]/td/input').click()\n",
    "\n"
   ]
  },
  {
   "cell_type": "code",
   "execution_count": 108,
   "id": "c5ac9324",
   "metadata": {},
   "outputs": [],
   "source": [
    "#path to special lists\n",
    "browser.find_by_xpath('/html/body/table[1]/tbody/tr[2]/td/table/tbody/tr[3]/td[6]/a/img').click()"
   ]
  },
  {
   "cell_type": "code",
   "execution_count": 109,
   "id": "ad91d8f2",
   "metadata": {},
   "outputs": [],
   "source": [
    "#path to ipos\n",
    "browser.find_by_xpath('/html/body/font/table/tbody/tr/td[2]/font[2]/p[2]/b[1]/a').click()\n",
    "time.sleep(5)"
   ]
  },
  {
   "cell_type": "code",
   "execution_count": 64,
   "id": "8989a35c",
   "metadata": {},
   "outputs": [],
   "source": [
    "### SCRAPE"
   ]
  },
  {
   "cell_type": "code",
   "execution_count": 65,
   "id": "f3f85cdf",
   "metadata": {},
   "outputs": [],
   "source": [
    "#scrape\n",
    "html=browser.html\n",
    "ipo_soup = soup(html, 'html.parser')"
   ]
  },
  {
   "cell_type": "code",
   "execution_count": 66,
   "id": "c962a90b",
   "metadata": {},
   "outputs": [
    {
     "name": "stdout",
     "output_type": "stream",
     "text": [
      "['Quick Search\\n\\n\\n\\n\\nby Ticker Symbol\\nby CUSIP Number\\nSymbol Lookup', 'Quick Search', '', 'by Ticker Symbol\\nby CUSIP Number\\nSymbol Lookup', '', 'Welcome, \\xa0\\xa0\\xa0Sarah Peterson \\n\\t\\t\\t,\\xa0\\xa0\\xa0  Non-Contributor (Please click here to make a contribution) \\n\\t\\t\\t\\n\\t\\t\\tDays of use: 7', '348304', '']\n",
      "[['Quick Search'], [''], ['by Ticker Symbol\\nby CUSIP Number\\nSymbol Lookup'], [''], [''], ['', '', '', '', '', '', '', '', '', '', '', '', '', '', '', '', '', '', '', '', '', '', '', '', '', '', '', '', ''], ['', '', '', '', '', '', '', '', '', '', ''], ['', ''], ['', '', '', '', '', '', '', '', '', '', ''], ['', ''], ['', ''], ['IPOs of Income Securities'], ['A list of 946 Initial Public Offerings (IPOs) of income and related securities.  The securities included on the list include all income securities that are included on the tables shown on the Income Tables menu. The securities are listed in order by IPO date with the most recent IPOs listed first.  New IPOs appear on the list when we become aware of them which can be anytime between their IPO date and the date they start trading on the markets which is generally up to 30 days after the IPO.  Clicking on the ticker symbol will take you directly to our information on the company.'], ['Special Features of this List: - Clicking on the Symbol of any listed security will produce our security description and \\ninformation page for that security.  Clicking on the IPO Prospectus @ SEC EDGAR will produce the original IPO prospectus for the security \\nas filed with the SEC EDGAR system.  Clicking on the Stock Exchange (NYSE, etc.) will produce the latest price quote for the security \\nfrom that exchange.  Clicking on the Chart below the Stock Exchange will produce a historical price chart for the security for varying \\nperiods depending on the chart source.'], ['Select # of records per page : 50100ALL'], ['Page: 1 of 10 \\n\\n\\t\\t\\t\\t\\n\\t\\t\\t\\t1 \\n\\t\\t\\t\\t\\t\\t\\t2\\n3\\n4\\n5'], ['SymbolCUSIP', 'Security', 'IPO Date', 'StockExchange', 'SecurityType'], ['FTAIMG3730V147', 'FTAI Aviation Ltd Reset Rate Cumulative Series D Preferred Shares', 'IPO:\\xa03/08/2023\\xa0\\xa0\\xa0\\n\\n\\n\\t\\xa0\\xa0\\xa0IPO Prospectus @ SEC EDGAR\\n\\t\\n\\t\\t\\xa0\\xa0\\xa0Call Date:\\xa06/15/2028', 'NGS\\nChart', 'Pfd Stock'], ['JXNFV46817M206', 'Jackson Financial Inc Dep Shares Reset Rate Series A Preferred Stock', 'IPO:\\xa03/06/2023\\xa0\\xa0\\xa0\\n\\n\\n\\t\\xa0\\xa0\\xa0IPO Prospectus @ SEC EDGAR\\n\\t\\n\\t\\t\\xa0\\xa0\\xa0Call Date:\\xa03/30/2028', 'OTOTC\\nChart', 'Pfd Stock'], ['HBANL446150773', 'Huntington Bancshares Dep Shares Series J Reset Rate Non-Cumul Preferred Stock', 'IPO:\\xa02/27/2023\\xa0\\xa0\\xa0\\n\\n\\n\\t\\xa0\\xa0\\xa0IPO Prospectus @ SEC EDGAR\\n\\t\\n\\t\\t\\xa0\\xa0\\xa0Call Date:\\xa04/15/2028', 'NGS\\nChart', 'Pfd Stock'], ['ASBA045487600', 'Associated Banc-Corp Reset Rate Subordinated Notes due 03/01/2033', 'IPO:\\xa02/06/2023\\xa0\\xa0\\xa0\\n\\n\\n\\t\\xa0\\xa0\\xa0IPO Prospectus @ SEC EDGAR\\n\\t\\n\\t\\t\\xa0\\xa0\\xa0Call Date:\\xa03/01/2028', 'NYSE\\nChart', 'E/T Debt Sec.'], ['EFC-C28852N406', 'Ellington Financial Inc. Series C Reset Rate Cumulative Preferred Stock', 'IPO:\\xa02/02/2023\\xa0\\xa0\\xa0\\n\\n\\n\\t\\xa0\\xa0\\xa0IPO Prospectus @ SEC EDGAR\\n\\t\\n\\t\\t\\xa0\\xa0\\xa0Call Date:\\xa04/30/2028', 'NYSE\\nChart', 'Pfd Stock'], ['RWT-A758075808', 'Redwood Trust Inc Series\\xa0A Reset Rate Cumulative Redeemable Preferred Stock', 'IPO:\\xa01/09/2023\\xa0\\xa0\\xa0\\n\\n\\n\\t\\xa0\\xa0\\xa0IPO Prospectus @ SEC EDGAR\\n\\t\\n\\t\\t\\xa0\\xa0\\xa0Call Date:\\xa04/15/2028', 'NYSE\\nChart', 'Pfd Stock'], ['MCLDP', 'mCloud Technologies Corp 9.0% Series A Cumulative Perpetual Preferred Shares', 'IPO:\\xa012/23/2022\\xa0\\xa0\\xa0\\n\\n\\n\\t\\xa0\\xa0\\xa0IPO Prospectus @ SEC EDGAR\\n\\t\\n\\t\\t\\xa0\\xa0\\xa0Call Date:\\xa012/22/2023', 'NCM\\nChart', 'Conv. Pfd'], ['HROWM415858307', 'Harrow Health, Inc. 11.875% Senior Notes due 12/31/2027', 'IPO:\\xa012/19/2022\\xa0\\xa0\\xa0\\n\\n\\n\\t\\xa0\\xa0\\xa0IPO Prospectus @ SEC EDGAR\\n\\t\\n\\t\\t\\xa0\\xa0\\xa0Call Date:\\xa012/31/2024', 'NGM\\nChart', 'E/T Debt Sec.'], ['GTLS-B16115Q407', 'Chart Industries, Inc. 6.75% Series B Mandatory Convertible Preferred Stock', 'IPO:\\xa012/12/2022\\xa0\\xa0\\xa0\\n\\n\\n\\t\\xa0\\xa0\\xa0IPO Prospectus @ SEC EDGAR', 'NYSE\\nChart', 'Mand. Conv.Security'], ['SAY80349A877', 'Saratoga Investment Corp., 8.125% Notes due 12/31/2027', 'IPO:\\xa012/05/2022\\xa0\\xa0\\xa0\\n\\n\\n\\t\\xa0\\xa0\\xa0IPO Prospectus @ SEC EDGAR\\n\\t\\n\\t\\t\\xa0\\xa0\\xa0Call Date:\\xa012/13/2024', 'NYSE\\nChart', 'E/T Debt Sec.'], ['ATH-E04686J507', 'Athene Holding Ltd  Dep Sh Rate Reset Non-Cumul Pref Shares Ser E', 'IPO:\\xa012/05/2022\\xa0\\xa0\\xa0\\n\\n\\n\\t\\xa0\\xa0\\xa0IPO Prospectus @ SEC EDGAR\\n\\t\\n\\t\\t\\xa0\\xa0\\xa0Call Date:\\xa012/30/2027', 'NYSE\\nChart', 'Pfd Stock'], ['RWAYZ78163D308', 'Runway Growth Finance Corp. 8.00% Notes Due 12/31/2027', 'IPO:\\xa011/30/2022\\xa0\\xa0\\xa0\\n\\n\\n\\t\\xa0\\xa0\\xa0IPO Prospectus @ SEC EDGAR\\n\\t\\n\\t\\t\\xa0\\xa0\\xa0Call Date:\\xa012/31/2024', 'NGS\\nChart', 'E/T Debt Sec.'], ['BKTD112463302', 'Brookdale Senior Living Inc 7.00% Tangible Equity Units Due 11/15/2025', 'IPO:\\xa011/17/2022\\xa0\\xa0\\xa0\\n\\n\\n\\t\\xa0\\xa0\\xa0IPO Prospectus @ SEC EDGAR', 'NYSE\\nChart', 'Mand. Conv.Security'], ['LNC-D534187885', 'Lincoln National Corp 9.0% Dep Shares Non-cumulative Preferred Stock, Series D', 'IPO:\\xa011/15/2022\\xa0\\xa0\\xa0\\n\\n\\n\\t\\xa0\\xa0\\xa0IPO Prospectus @ SEC EDGAR\\n\\t\\n\\t\\t\\xa0\\xa0\\xa0Call Date:\\xa012/01/2027', 'NYSE\\nChart', 'Pfd Stock'], ['TEMP16534187BR9', 'Lincoln National Corp Dep Shares Reset Rate Non-Cumul Preferred Stock Series C', 'IPO:\\xa011/15/2022\\xa0\\xa0\\xa0\\n\\n\\n\\t\\xa0\\xa0\\xa0IPO Prospectus @ SEC EDGAR\\n\\t\\n\\t\\t\\xa0\\xa0\\xa0Call Date:\\xa03/01/2028', '', 'Pfd Stock'], ['SAJ80349A885', 'Saratoga Investment Corp., 8.00% Notes due 10/31/2027', 'IPO:\\xa010/20/2022\\xa0\\xa0\\xa0\\n\\n\\n\\t\\xa0\\xa0\\xa0IPO Prospectus @ SEC EDGAR\\n\\t\\n\\t\\t\\xa0\\xa0\\xa0Call Date:\\xa010/27/2024', 'NYSE\\nChart', 'E/T Debt Sec.'], ['MBINM58844R884', 'Merchants Bancorp, Reset Rate Dep Shares Series D Non-Cumul Preferred Stock', 'IPO:\\xa09/22/2022\\xa0\\xa0\\xa0\\n\\n\\n\\t\\xa0\\xa0\\xa0IPO Prospectus @ SEC EDGAR\\n\\t\\n\\t\\t\\xa0\\xa0\\xa0Call Date:\\xa010/01/2027', 'NCM\\nChart', 'Pfd Stock'], ['RZC759351885', 'Reinsurance Group of America, Reset Rate Sub Debentures due 10/15/2052', 'IPO:\\xa09/15/2022\\xa0\\xa0\\xa0\\n\\n\\n\\t\\xa0\\xa0\\xa0IPO Prospectus @ SEC EDGAR\\n\\t\\n\\t\\t\\xa0\\xa0\\xa0Call Date:\\xa010/17/2027', 'NYSE\\nChart', 'E/T Debt Sec.'], ['NEE-R65339F713', 'NextEra Energy, Inc. 6.926% Equity Units Due 09/01/2025', 'IPO:\\xa09/14/2022\\xa0\\xa0\\xa0\\n\\n\\n\\t\\xa0\\xa0\\xa0IPO Prospectus @ SEC EDGAR', 'NYSE\\nChart', 'Mand. Conv.Security'], ['AGNCL00123Q856', 'AGNC Investment Corp. Dep Shares Ser G Reset Rate Cumul Preferred Stock', 'IPO:\\xa09/08/2022\\xa0\\xa0\\xa0\\n\\n\\n\\t\\xa0\\xa0\\xa0IPO Prospectus @ SEC EDGAR\\n\\t\\n\\t\\t\\xa0\\xa0\\xa0Call Date:\\xa010/15/2027', 'NGS\\nChart', 'Pfd Stock'], ['APE00165C203', 'AMC Preferred Equity Units', 'IPO:\\xa08/19/2022\\xa0\\xa0\\xa0\\n\\n\\n\\t\\xa0\\xa0\\xa0IPO Prospectus @ SEC EDGAR', 'NYSE\\nChart', 'Mand. Conv.Security'], ['SCCG78590A877', 'Sachem Capital Corp., 8.00% Notes due 09/30/2027', 'IPO:\\xa08/17/2022\\xa0\\xa0\\xa0\\n\\n\\n\\t\\xa0\\xa0\\xa0IPO Prospectus @ SEC EDGAR\\n\\t\\n\\t\\t\\xa0\\xa0\\xa0Call Date:\\xa08/23/2024', 'AMEX\\nChart', 'E/T Debt Sec.'], ['MSBIP597742303', 'Midland States Bancorp, Inc. Dep Shares Reset Rate Non-Cumul Preferred Series A', 'IPO:\\xa08/17/2022\\xa0\\xa0\\xa0\\n\\n\\n\\t\\xa0\\xa0\\xa0IPO Prospectus @ SEC EDGAR\\n\\t\\n\\t\\t\\xa0\\xa0\\xa0Call Date:\\xa09/30/2027', 'NGS\\nChart', 'Pfd Stock'], ['KEY-L493267843', 'KeyCorp, Dep Shares Rate Reset Perp Non-Cumul Preferred Stock Series H', 'IPO:\\xa08/17/2022\\xa0\\xa0\\xa0\\n\\n\\n\\t\\xa0\\xa0\\xa0IPO Prospectus @ SEC EDGAR\\n\\t\\n\\t\\t\\xa0\\xa0\\xa0Call Date:\\xa012/15/2027', 'NYSE\\nChart', 'Pfd Stock'], ['F-D345370811', 'Ford Motor Co., 6.50% Notes due 08/15/2062', 'IPO:\\xa08/16/2022\\xa0\\xa0\\xa0\\n\\n\\n\\t\\xa0\\xa0\\xa0IPO Prospectus @ SEC EDGAR\\n\\t\\n\\t\\t\\xa0\\xa0\\xa0Call Date:\\xa08/15/2027', 'NYSE\\nChart', 'E/T Debt Sec.'], ['SymbolCUSIP', 'Security', 'IPO Date', 'StockExchange', 'SecurityType', ''], ['PRH744320870', 'Prudential Financial, Inc. 5.950% Junior Subordinated Notes due 9/1/2062', 'IPO:\\xa08/09/2022\\xa0\\xa0\\xa0\\n\\n\\n\\t\\xa0\\xa0\\xa0IPO Prospectus @ SEC EDGAR\\n\\t\\n\\t\\t\\xa0\\xa0\\xa0Call Date:\\xa09/01/2027', 'NYSE\\nChart', 'E/T Debt Sec.'], ['MS-P61762V853', 'Morgan Stanley 6.50% Depositary Shares Non-Cumulative Preferred Stock, Series P', 'IPO:\\xa07/28/2022\\xa0\\xa0\\xa0\\n\\n\\n\\t\\xa0\\xa0\\xa0IPO Prospectus @ SEC EDGAR\\n\\t\\n\\t\\t\\xa0\\xa0\\xa0Call Date:\\xa010/15/2027', 'NYSE\\nChart', 'Pfd Stock'], ['RWAYL78163D209', 'Runway Growth Finance Corp. 7.50% Notes Due 07/28/2027', 'IPO:\\xa07/21/2022\\xa0\\xa0\\xa0\\n\\n\\n\\t\\xa0\\xa0\\xa0IPO Prospectus @ SEC EDGAR\\n\\t\\n\\t\\t\\xa0\\xa0\\xa0Call Date:\\xa07/28/2024', 'NGS\\nChart', 'E/T Debt Sec.'], ['TRINL896442506', 'Trinity Capital Inc. 7.00% Notes due 01/16/2025', 'IPO:\\xa07/20/2022\\xa0\\xa0\\xa0\\n\\n\\n\\t\\xa0\\xa0\\xa0IPO Prospectus @ SEC EDGAR\\n\\t\\n\\t\\t\\xa0\\xa0\\xa0Call Date:\\xa01/16/2023', 'NGS\\nChart', 'E/T Debt Sec.'], ['OXLCN691543870', 'Oxford Lane Capital Corp., 7.125% Term Preferred Series 06/30/2029', 'IPO:\\xa06/09/2022\\xa0\\xa0\\xa0\\n\\n\\n\\t\\xa0\\xa0\\xa0IPO Prospectus @ SEC EDGAR\\n\\t\\n\\t\\t\\xa0\\xa0\\xa0Call Date:\\xa06/30/2024', 'NGS\\nChart', 'Pfd Stock'], ['GEGGL39037G208', 'Great Elm Group, Inc. 7.25% Notes due 06/30/2027', 'IPO:\\xa06/08/2022\\xa0\\xa0\\xa0\\n\\n\\n\\t\\xa0\\xa0\\xa0IPO Prospectus @ SEC EDGAR\\n\\t\\n\\t\\t\\xa0\\xa0\\xa0Call Date:\\xa06/30/2024', 'NCM\\nChart', 'E/T Debt Sec.'], ['HTFC44045A508', 'Horizon Technology Finance Corp., 6.25% Notes due 06/15/2027', 'IPO:\\xa06/08/2022\\xa0\\xa0\\xa0\\n\\n\\n\\t\\xa0\\xa0\\xa0IPO Prospectus @ SEC EDGAR\\n\\t\\n\\t\\t\\xa0\\xa0\\xa0Call Date:\\xa06/15/2024', 'NYSE\\nChart', 'E/T Debt Sec.'], ['AULT-D09175M200', 'Ault Alliance, Inc.. 13.00% Series D Cumulative Redeemable Preferred Stock', 'IPO:\\xa06/03/2022\\xa0\\xa0\\xa0\\n\\n\\n\\t\\xa0\\xa0\\xa0IPO Prospectus @ SEC EDGAR', 'AMEX\\nChart', 'Pfd Stock'], ['PACWP695263202', 'PacWest Bancorp 7.75% Dep Shares Rate Reset Non-Cumul Preferred Stock, Series A', 'IPO:\\xa06/02/2022\\xa0\\xa0\\xa0\\n\\n\\n\\t\\xa0\\xa0\\xa0IPO Prospectus @ SEC EDGAR\\n\\t\\n\\t\\t\\xa0\\xa0\\xa0Call Date:\\xa09/01/2027', 'NGS\\nChart', 'Pfd Stock'], ['SCCF78590A802', 'Sachem Capital Corp., 7.125% Notes due 6/30/2027', 'IPO:\\xa05/05/2022\\xa0\\xa0\\xa0\\n\\n\\n\\t\\xa0\\xa0\\xa0IPO Prospectus @ SEC EDGAR\\n\\t\\n\\t\\t\\xa0\\xa0\\xa0Call Date:\\xa05/11/2024', 'AMEX\\nChart', 'E/T Debt Sec.'], ['SAT80349A802', 'Saratoga Investment Corp 6.00% Notes due 4/30/2027', 'IPO:\\xa04/18/2022\\xa0\\xa0\\xa0\\n\\n\\n\\t\\xa0\\xa0\\xa0IPO Prospectus @ SEC EDGAR\\n\\t\\n\\t\\t\\xa0\\xa0\\xa0Call Date:\\xa04/27/2024', 'NYSE\\nChart', 'E/T Debt Sec.'], ['RIV-A76881Y208', 'RiverNorth Opportunities Fund, Inc. 6.00% Series A, Perpetual Preferred Stock', 'IPO:\\xa04/12/2022\\xa0\\xa0\\xa0\\n\\n\\n\\t\\xa0\\xa0\\xa0IPO Prospectus @ SEC EDGAR\\n\\t\\n\\t\\t\\xa0\\xa0\\xa0Call Date:\\xa05/15/2027', 'NYSE\\nChart', 'Pfd Stock'], ['SCCE78590A703', 'Sachem Capital Corp., 6.00% Notes due 03/30/2027', 'IPO:\\xa03/03/2022\\xa0\\xa0\\xa0\\n\\n\\n\\t\\xa0\\xa0\\xa0IPO Prospectus @ SEC EDGAR\\n\\t\\n\\t\\t\\xa0\\xa0\\xa0Call Date:\\xa03/09/2024', 'AMEX\\nChart', 'E/T Debt Sec.'], ['KMPB488401308', 'Kemper Corp 5.875% Fixed-Rate Reset Junior Sub Debentures due 03/15/2062', 'IPO:\\xa03/03/2022\\xa0\\xa0\\xa0\\n\\n\\n\\t\\xa0\\xa0\\xa0IPO Prospectus @ SEC EDGAR\\n\\t\\n\\t\\t\\xa0\\xa0\\xa0Call Date:\\xa03/15/2027', 'NYSE\\nChart', 'E/T Debt Sec.'], ['PRIF-L74274W756', 'Priority Income Fund, 6.375% Series L Term Cumulative Preferred Stock 03/31/2029', 'IPO:\\xa02/22/2022\\xa0\\xa0\\xa0\\n\\n\\n\\t\\xa0\\xa0\\xa0IPO Prospectus @ SEC EDGAR\\n\\t\\n\\t\\t\\xa0\\xa0\\xa0Call Date:\\xa02/28/2025', 'NYSE\\nChart', 'Pfd Stock'], ['USB-S902973668', 'U.S. Bancorp 4.50% Dep Shares Non-Cumulative Perpetual Preferred Stock Series O', 'IPO:\\xa02/02/2022\\xa0\\xa0\\xa0\\n\\n\\n\\t\\xa0\\xa0\\xa0IPO Prospectus @ SEC EDGAR\\n\\t\\n\\t\\t\\xa0\\xa0\\xa0Call Date:\\xa04/15/2027', 'NYSE\\nChart', 'Pfd Stock'], ['BAC-S06055H871', 'Bank of America Corp., 4.750% Dep Shares Non-Cumul Preferred Stock Series SS', 'IPO:\\xa01/27/2022\\xa0\\xa0\\xa0\\n\\n\\n\\t\\xa0\\xa0\\xa0IPO Prospectus @ SEC EDGAR\\n\\t\\n\\t\\t\\xa0\\xa0\\xa0Call Date:\\xa02/17/2027', 'NYSE\\nChart', 'Pfd Stock'], ['CCLDO14167R308', 'CareCloud, Inc. 8.75% Series B Cumul Redeem Perp Preferred Stock', 'IPO:\\xa01/27/2022\\xa0\\xa0\\xa0\\n\\n\\n\\t\\xa0\\xa0\\xa0IPO Prospectus @ SEC EDGAR\\n\\t\\n\\t\\t\\xa0\\xa0\\xa0Call Date:\\xa02/15/2024', 'OTOTC\\nChart', 'Pfd Stock'], ['ECCV269809885', 'Eagle Point Credit Co., 5.375% Notes due 01/31/2029', 'IPO:\\xa01/12/2022\\xa0\\xa0\\xa0\\n\\n\\n\\t\\xa0\\xa0\\xa0IPO Prospectus @ SEC EDGAR\\n\\t\\n\\t\\t\\xa0\\xa0\\xa0Call Date:\\xa01/31/2025', 'NYSE\\nChart', 'E/T Debt Sec.'], ['BIPI05554M100', 'BIP Bermuda Holdings I Limited 5.125% Perpetual Subordinated Notes', 'IPO:\\xa01/12/2022\\xa0\\xa0\\xa0\\n\\n\\n\\t\\xa0\\xa0\\xa0IPO Prospectus @ SEC EDGAR\\n\\t\\n\\t\\t\\xa0\\xa0\\xa0Call Date:\\xa01/21/2027', 'NYSE\\nChart', 'E/T Debt Sec.'], ['OXLCZ691543888', 'Oxford Lane Capital Corp., 5.00% Notes due 01/31/2027', 'IPO:\\xa01/04/2022\\xa0\\xa0\\xa0\\n\\n\\n\\t\\xa0\\xa0\\xa0IPO Prospectus @ SEC EDGAR\\n\\t\\n\\t\\t\\xa0\\xa0\\xa0Call Date:\\xa01/31/2024', 'NGS\\nChart', 'E/T Debt Sec.'], ['PSA-S74460W396', 'Public Storage, Inc. 4.10% Depositary Shares Cumulative Preferred Shares Ser S', 'IPO:\\xa01/04/2022\\xa0\\xa0\\xa0\\n\\n\\n\\t\\xa0\\xa0\\xa0IPO Prospectus @ SEC EDGAR\\n\\t\\n\\t\\t\\xa0\\xa0\\xa0Call Date:\\xa01/13/2027', 'NYSE\\nChart', 'Pfd Stock'], ['SPE-C', 'Special Opportunities Fund 2.75% Convertible Prfd Series C due 01/21/2027', 'IPO:\\xa012/20/2021\\xa0\\xa0\\xa0\\n\\n\\n\\t\\xa0\\xa0\\xa0IPO Prospectus @ SEC EDGAR\\n\\t\\n\\t\\t\\xa0\\xa0\\xa0Call Date:\\xa01/21/2024', 'NYSE\\nChart', 'Conv. Pfd'], ['GRBK-A392709200', 'Green Brick Partners, Inc. 5.75% Dep Shares Series A Cumulative Preferred Stock', 'IPO:\\xa012/17/2021\\xa0\\xa0\\xa0\\n\\n\\n\\t\\xa0\\xa0\\xa0IPO Prospectus @ SEC EDGAR\\n\\t\\n\\t\\t\\xa0\\xa0\\xa0Call Date:\\xa012/23/2026', 'NYSE\\nChart', 'Pfd Stock'], ['SCCD78590A604', 'Sachem Capital Corp. 6.00% Notes due 12/30/2026', 'IPO:\\xa012/14/2021\\xa0\\xa0\\xa0\\n\\n\\n\\t\\xa0\\xa0\\xa0IPO Prospectus @ SEC EDGAR\\n\\t\\n\\t\\t\\xa0\\xa0\\xa0Call Date:\\xa012/20/2023', 'AMEX\\nChart', 'E/T Debt Sec.'], ['SymbolCUSIP', 'Security', 'IPO Date', 'StockExchange', 'SecurityType', ''], ['EFC-B28852N307', 'Ellington Financial, Inc., 6.25% Series B Reset Rate Cumul Redeem Prfd Stock', 'IPO:\\xa012/08/2021\\xa0\\xa0\\xa0\\n\\n\\n\\t\\xa0\\xa0\\xa0IPO Prospectus @ SEC EDGAR\\n\\t\\n\\t\\t\\xa0\\xa0\\xa0Call Date:\\xa01/30/2027', 'NYSE\\nChart', 'Pfd Stock'], ['BWNB05614L506', 'Babcock & Wilcox Enterprises, Inc., 6.50% Senior Notes Due 12/31/2026', 'IPO:\\xa012/07/2021\\xa0\\xa0\\xa0\\n\\n\\n\\t\\xa0\\xa0\\xa0IPO Prospectus @ SEC EDGAR', 'NYSE\\nChart', 'E/T Debt Sec.'], ['BEPI11259P208', 'Brookfield BRP Holdings (Canada) Inc. 4.875% Perpetual Subordinated Notes', 'IPO:\\xa012/07/2021\\xa0\\xa0\\xa0\\n\\n\\n\\t\\xa0\\xa0\\xa0IPO Prospectus @ SEC EDGAR\\n\\t\\n\\t\\t\\xa0\\xa0\\xa0Call Date:\\xa012/09/2026', 'NYSE\\nChart', 'E/T Debt Sec.'], ['GMBLP', 'Esports Entertainment Group, Inc. 10% Series A Cumul Convertible Preferred Stock', 'IPO:\\xa012/03/2021\\xa0\\xa0\\xa0\\n\\n\\n\\t\\xa0\\xa0\\xa0IPO Prospectus @ SEC EDGAR\\n\\t\\n\\t\\t\\xa0\\xa0\\xa0Call Date:\\xa01/01/2023', 'NGM\\nChart', 'Conv. Pfd'], ['SLHPF83086L304', 'Skylight Health Group Inc. 9.25% Series A Cumulative Redeemable Preferred Shares', 'IPO:\\xa012/02/2021', 'OTOTC\\nChart', 'Pfd Stock'], ['OCCIN', 'OFS Credit Company, Inc., 5.25% Series E Term Preferred Stock Due 12/31/2026', 'IPO:\\xa012/01/2021\\xa0\\xa0\\xa0\\n\\n\\n\\t\\xa0\\xa0\\xa0IPO Prospectus @ SEC EDGAR\\n\\t\\n\\t\\t\\xa0\\xa0\\xa0Call Date:\\xa012/31/2023', 'NCM\\nChart', 'Pfd Stock'], ['RILYG05580M793', 'B. Riley Financial, 5.00% Senior Notes Due 12/31/2026', 'IPO:\\xa011/29/2021\\xa0\\xa0\\xa0\\n\\n\\n\\t\\xa0\\xa0\\xa0IPO Prospectus @ SEC EDGAR', 'NGM\\nChart', 'E/T Debt Sec.'], ['ATLCL04914Y300', 'Atlanticus Holdings Corp 6.125% Senior Notes Due 11/30/2026', 'IPO:\\xa011/24/2021\\xa0\\xa0\\xa0\\n\\n\\n\\t\\xa0\\xa0\\xa0IPO Prospectus @ SEC EDGAR\\n\\t\\n\\t\\t\\xa0\\xa0\\xa0Call Date:\\xa011/30/2023', 'NGM\\nChart', 'E/T Debt Sec.'], ['GPMT-A38741L305', 'Granite Point Mortgage Trust, Inc. 7.0% Ser A Fix/Float Cumul Prrd Stock', 'IPO:\\xa011/23/2021\\xa0\\xa0\\xa0\\n\\n\\n\\t\\xa0\\xa0\\xa0IPO Prospectus @ SEC EDGAR\\n\\t\\n\\t\\t\\xa0\\xa0\\xa0Call Date:\\xa011/30/2026', 'NYSE\\nChart', 'Pfd Stock'], ['FRC-N33616C696', 'First Republic Bank, 4.50% Dep Shares Non-Cumul Perp Series N Preferred Stock', 'IPO:\\xa011/18/2021', 'NYSE\\nChart', 'Pfd Stock'], ['ECC-D269809802', 'Eagle Point Credit Co. 6.75% Series D Cumulative Preferred Stock', 'IPO:\\xa011/17/2021\\xa0\\xa0\\xa0\\n\\n\\n\\t\\xa0\\xa0\\xa0IPO Prospectus @ SEC EDGAR\\n\\t\\n\\t\\t\\xa0\\xa0\\xa0Call Date:\\xa011/29/2026', 'NYSE\\nChart', 'Pfd Stock'], ['NYMTZ649604857', 'New York Mortgage Trust Inc 7.00% Series G Cumulative Redeemable Preferred Stock', 'IPO:\\xa011/17/2021\\xa0\\xa0\\xa0\\n\\n\\n\\t\\xa0\\xa0\\xa0IPO Prospectus @ SEC EDGAR\\n\\t\\n\\t\\t\\xa0\\xa0\\xa0Call Date:\\xa01/15/2027', 'NGS\\nChart', 'Pfd Stock'], ['OPP-B76882G404', 'RiverNorth/DoubleLine Strategic Opportunity Fund, Inc. 4.75% Ser B Prfd Stock', 'IPO:\\xa011/15/2021\\xa0\\xa0\\xa0\\n\\n\\n\\t\\xa0\\xa0\\xa0IPO Prospectus @ SEC EDGAR\\n\\t\\n\\t\\t\\xa0\\xa0\\xa0Call Date:\\xa02/15/2027', 'NYSE\\nChart', 'Pfd Stock'], ['ARBKL040126203', 'Argo Blockchain plc 8.75% Senior Notes Due 11/30/2026', 'IPO:\\xa011/15/2021\\xa0\\xa0\\xa0\\n\\n\\n\\t\\xa0\\xa0\\xa0IPO Prospectus @ SEC EDGAR\\n\\t\\n\\t\\t\\xa0\\xa0\\xa0Call Date:\\xa011/30/2023', 'NGS\\nChart', 'E/T Debt Sec.'], ['DTG233331818', 'DTE Energy Co Series E 4.375% Junior Subordinated Debentures due 12/01/2081', 'IPO:\\xa011/15/2021\\xa0\\xa0\\xa0\\n\\n\\n\\t\\xa0\\xa0\\xa0IPO Prospectus @ SEC EDGAR\\n\\t\\n\\t\\t\\xa0\\xa0\\xa0Call Date:\\xa012/01/2026', 'NYSE\\nChart', 'E/T Debt Sec.'], ['BHFAM10922N889', 'Brighthouse Financial, Inc. 4.625% Non-Cumulative Preferred Stock, Series D', 'IPO:\\xa011/12/2021\\xa0\\xa0\\xa0\\n\\n\\n\\t\\xa0\\xa0\\xa0IPO Prospectus @ SEC EDGAR\\n\\t\\n\\t\\t\\xa0\\xa0\\xa0Call Date:\\xa012/25/2026', 'NGS\\nChart', 'Pfd Stock'], ['EFSCP293712303', 'Enterprise Financial Services Corp 5.0% Dep Shares Non-Cumul Preferred Stk Ser A', 'IPO:\\xa011/10/2021\\xa0\\xa0\\xa0\\n\\n\\n\\t\\xa0\\xa0\\xa0IPO Prospectus @ SEC EDGAR\\n\\t\\n\\t\\t\\xa0\\xa0\\xa0Call Date:\\xa012/15/2026', 'NGS\\nChart', 'Pfd Stock'], ['PSA-R74460W420', 'Public Storage, Inc. 4.0% Depositary Shares Cumulative Preferred Shares Ser R', 'IPO:\\xa011/09/2021\\xa0\\xa0\\xa0\\n\\n\\n\\t\\xa0\\xa0\\xa0IPO Prospectus @ SEC EDGAR\\n\\t\\n\\t\\t\\xa0\\xa0\\xa0Call Date:\\xa011/19/2026', 'NYSE\\nChart', 'Pfd Stock'], ['PFXNZ71742W301', 'PhenixFIN Corp, 5.25% Senior Notes due 11/1/2028', 'IPO:\\xa011/08/2021\\xa0\\xa0\\xa0\\n\\n\\n\\t\\xa0\\xa0\\xa0IPO Prospectus @ SEC EDGAR\\n\\t\\n\\t\\t\\xa0\\xa0\\xa0Call Date:\\xa011/01/2023', 'NGM\\nChart', 'E/T Debt Sec.'], ['HPP-C444097307', 'Hudson Pacific Properties, Inc. 4.750% Series C Cumulative Preferred Stock', 'IPO:\\xa011/04/2021\\xa0\\xa0\\xa0\\n\\n\\n\\t\\xa0\\xa0\\xa0IPO Prospectus @ SEC EDGAR\\n\\t\\n\\t\\t\\xa0\\xa0\\xa0Call Date:\\xa011/16/2026', 'NYSE\\nChart', 'Pfd Stock'], ['TELZ87968A203', 'Tellurian Inc. 8.25% Senior Notes Due 11/30/2028', 'IPO:\\xa011/03/2021\\xa0\\xa0\\xa0\\n\\n\\n\\t\\xa0\\xa0\\xa0IPO Prospectus @ SEC EDGAR\\n\\t\\n\\t\\t\\xa0\\xa0\\xa0Call Date:\\xa011/30/2023', 'AMEX\\nChart', 'E/T Debt Sec.'], ['FOSLL34988V304', 'Fossil Group, Inc \\t7.00% Senior Notes Due 11/30/2026', 'IPO:\\xa011/01/2021\\xa0\\xa0\\xa0\\n\\n\\n\\t\\xa0\\xa0\\xa0IPO Prospectus @ SEC EDGAR\\n\\t\\n\\t\\t\\xa0\\xa0\\xa0Call Date:\\xa011/30/2023', 'NGS\\nChart', 'E/T Debt Sec.'], ['OZKAP06417N202', 'Bank OZK Series 4.625% A Non-Cumulative Perpetual Preferred Stock', 'IPO:\\xa010/27/2021\\xa0\\xa0\\xa0\\n\\n\\t\\n\\n\\t\\tDoes not file with SEC EDGAR - No Prospectus Online.\\n\\t\\n\\t\\t\\xa0\\xa0\\xa0Call Date:\\xa011/15/2026', 'NGS\\nChart', 'Pfd Stock'], ['BAC-Q06055H806', 'Bank of America Corp., 4.250% Dep Shares Non-Cumul Preferred Stock Series QQ', 'IPO:\\xa010/21/2021\\xa0\\xa0\\xa0\\n\\n\\n\\t\\xa0\\xa0\\xa0IPO Prospectus @ SEC EDGAR\\n\\t\\n\\t\\t\\xa0\\xa0\\xa0Call Date:\\xa011/17/2026', 'NYSE\\nChart', 'Pfd Stock'], ['OFSSH67103B704', 'OFS Capital Corp., 4.95% Notes due 10/31/2028', 'IPO:\\xa010/21/2021\\xa0\\xa0\\xa0\\n\\n\\n\\t\\xa0\\xa0\\xa0IPO Prospectus @ SEC EDGAR\\n\\t\\n\\t\\t\\xa0\\xa0\\xa0Call Date:\\xa010/31/2023', 'NGS\\nChart', 'E/T Debt Sec.'], ['SymbolCUSIP', 'Security', 'IPO Date', 'StockExchange', 'SecurityType', ''], ['EICA269817201', 'Eagle Point Income Company Inc 5.0% Series A Term Preferred Stock due 10/31/2026', 'IPO:\\xa010/18/2021\\xa0\\xa0\\xa0\\n\\n\\n\\t\\xa0\\xa0\\xa0IPO Prospectus @ SEC EDGAR\\n\\t\\n\\t\\t\\xa0\\xa0\\xa0Call Date:\\xa010/30/2023', 'NYSE\\nChart', 'Pfd Stock'], ['MS-O61762V861', 'Morgan Stanley 4.250% Depositary Shares Non-Cumulative Preferred Stock, Series O', 'IPO:\\xa010/18/2021\\xa0\\xa0\\xa0\\n\\n\\n\\t\\xa0\\xa0\\xa0IPO Prospectus @ SEC EDGAR\\n\\t\\n\\t\\t\\xa0\\xa0\\xa0Call Date:\\xa01/15/2027', 'NYSE\\nChart', 'Pfd Stock'], ['HNNAZ425885209', 'Hennessy Advisors, Inc. 4.875% Notes Due 12/31/2026', 'IPO:\\xa010/14/2021\\xa0\\xa0\\xa0\\n\\n\\n\\t\\xa0\\xa0\\xa0IPO Prospectus @ SEC EDGAR\\n\\t\\n\\t\\t\\xa0\\xa0\\xa0Call Date:\\xa012/31/2023', 'NGM\\nChart', 'E/T Debt Sec.'], ['PRIF-K74274W764', 'Priority Income Fund 7.000% Series K Cumulative Preferred Stock', 'IPO:\\xa010/08/2021\\xa0\\xa0\\xa0\\n\\n\\n\\t\\xa0\\xa0\\xa0IPO Prospectus @ SEC EDGAR\\n\\t\\n\\t\\t\\xa0\\xa0\\xa0Call Date:\\xa09/30/2026', 'NYSE\\nChart', 'Pfd Stock'], ['COMSP205650302', 'ComSovereign Holding Corp. 9.25% Series A Cumulative Preferred Stock', 'IPO:\\xa010/06/2021\\xa0\\xa0\\xa0\\n\\n\\n\\t\\xa0\\xa0\\xa0IPO Prospectus @ SEC EDGAR\\n\\t\\n\\t\\t\\xa0\\xa0\\xa0Call Date:\\xa04/29/2024', 'NCM\\nChart', 'Pfd Stock'], ['GREEL39531G209', 'Greenidge Generation Holdings Inc. 8.50% Senior Notes due 10/31/2026', 'IPO:\\xa010/06/2021\\xa0\\xa0\\xa0\\n\\n\\n\\t\\xa0\\xa0\\xa0IPO Prospectus @ SEC EDGAR\\n\\t\\n\\t\\t\\xa0\\xa0\\xa0Call Date:\\xa010/31/2023', 'NGS\\nChart', 'E/T Debt Sec.'], ['GDV-K36242H864', 'Gabelli Dividend & Income Trust, 4.25% Series K Cumulative Preferred Shares', 'IPO:\\xa010/05/2021\\xa0\\xa0\\xa0\\n\\n\\n\\t\\xa0\\xa0\\xa0IPO Prospectus @ SEC EDGAR\\n\\t\\n\\t\\t\\xa0\\xa0\\xa0Call Date:\\xa010/07/2026', 'NYSE\\nChart', 'Pfd Stock'], ['HTIBP42226B303', 'Healthcare Trust, Inc.  \\t7.125% Series B Cumulative Redeemable Preferred Stock', 'IPO:\\xa010/04/2021\\xa0\\xa0\\xa0\\n\\n\\n\\t\\xa0\\xa0\\xa0IPO Prospectus @ SEC EDGAR\\n\\t\\n\\t\\t\\xa0\\xa0\\xa0Call Date:\\xa010/06/2026', 'NGM\\nChart', 'Pfd Stock'], ['ABR-F038923850', 'Arbor Realty Trust, 6.25% Series F Cumulative Redeemable Preferred Stock', 'IPO:\\xa010/04/2021\\xa0\\xa0\\xa0\\n\\n\\n\\t\\xa0\\xa0\\xa0IPO Prospectus @ SEC EDGAR\\n\\t\\n\\t\\t\\xa0\\xa0\\xa0Call Date:\\xa010/12/2026', 'NYSE\\nChart', 'Pfd Stock'], ['IMBIL452465305', 'iMedia Brands, Inc  8.50% Senior Notes due 9/30/2026', 'IPO:\\xa09/28/2021\\xa0\\xa0\\xa0\\n\\n\\n\\t\\xa0\\xa0\\xa0IPO Prospectus @ SEC EDGAR\\n\\t\\n\\t\\t\\xa0\\xa0\\xa0Call Date:\\xa09/30/2023', 'NGM\\nChart', 'E/T Debt Sec.'], ['LFMDP53216B203', 'LifeMD, Inc. 8.875% Series A Cumulative Perpetual Preferred Stock', 'IPO:\\xa09/28/2021\\xa0\\xa0\\xa0\\n\\n\\n\\t\\xa0\\xa0\\xa0IPO Prospectus @ SEC EDGAR\\n\\t\\n\\t\\t\\xa0\\xa0\\xa0Call Date:\\xa010/15/2022', 'NCM\\nChart', 'Pfd Stock'], ['RBCP75524B203', 'RBC Bearings Inc 5.0% Ser A Mandatory Convertible Preferred Stock Due 10/15/2024', 'IPO:\\xa09/20/2021\\xa0\\xa0\\xa0\\n\\n\\n\\t\\xa0\\xa0\\xa0IPO Prospectus @ SEC EDGAR', 'NYSE\\nChart', 'Mand. Conv.Security'], ['ICR-AS45781T20', 'InPoint Commercial Real Estate Income Inc 6.75% Ser A Cumulative Preferred Stock', 'IPO:\\xa09/15/2021\\xa0\\xa0\\xa0\\n\\n\\n\\t\\xa0\\xa0\\xa0IPO Prospectus @ SEC EDGAR\\n\\t\\n\\t\\t\\xa0\\xa0\\xa0Call Date:\\xa09/22/2026', 'NYSE\\nChart', 'Pfd Stock'], ['MDV-A60784B200', 'Modiv Inc. 7.375% Series A Cumulative Redeemable Perpetual Preferred Stock', 'IPO:\\xa09/15/2021\\xa0\\xa0\\xa0\\n\\n\\n\\t\\xa0\\xa0\\xa0IPO Prospectus @ SEC EDGAR\\n\\t\\n\\t\\t\\xa0\\xa0\\xa0Call Date:\\xa09/17/2026', 'NYSE\\nChart', 'Pfd Stock'], ['WAL-A957638406', 'Western Alliance Bancorporation Dep Shares Reset Rate Non-Cumul Prfd Stock Ser A', 'IPO:\\xa09/15/2021\\xa0\\xa0\\xa0\\n\\n\\n\\t\\xa0\\xa0\\xa0IPO Prospectus @ SEC EDGAR\\n\\t\\n\\t\\t\\xa0\\xa0\\xa0Call Date:\\xa09/30/2026', 'NYSE\\nChart', 'Pfd Stock'], ['VNO-O929042794', 'Vornado Realty Trust 4.45% Series O Cumulative Redeemable Preferred Shares', 'IPO:\\xa09/13/2021\\xa0\\xa0\\xa0\\n\\n\\n\\t\\xa0\\xa0\\xa0IPO Prospectus @ SEC EDGAR\\n\\t\\n\\t\\t\\xa0\\xa0\\xa0Call Date:\\xa09/22/2026', 'NYSE\\nChart', 'Pfd Stock'], ['RITM-D64828T706', 'Rithm Capital Corp. Reset Rate Series D Cumulative Preferred Stock', 'IPO:\\xa09/13/2021\\xa0\\xa0\\xa0\\n\\n\\n\\t\\xa0\\xa0\\xa0IPO Prospectus @ SEC EDGAR\\n\\t\\n\\t\\t\\xa0\\xa0\\xa0Call Date:\\xa011/15/2026', 'NYSE\\nChart', 'Pfd Stock'], ['ADC-A008492209', 'Agree Realty Corp 4.250% Depositary Shares Series A Cumulative Preferred Stock', 'IPO:\\xa09/08/2021\\xa0\\xa0\\xa0\\n\\n\\n\\t\\xa0\\xa0\\xa0IPO Prospectus @ SEC EDGAR\\n\\t\\n\\t\\t\\xa0\\xa0\\xa0Call Date:\\xa09/17/2026', 'NYSE\\nChart', 'Pfd Stock'], ['CHRB15957P204', 'Charah Solutions, Inc. 8.50% Senior Notes Due 8/31/2026', 'IPO:\\xa09/01/2021\\xa0\\xa0\\xa0\\n\\n\\n\\t\\xa0\\xa0\\xa0IPO Prospectus @ SEC EDGAR\\n\\t\\n\\t\\t\\xa0\\xa0\\xa0Call Date:\\xa08/31/2023', 'NYSE\\nChart', 'E/T Debt Sec.'], ['SLNHP583543202', 'Soluna Holdings, Inc. 9.0% Series A Cumulative Preferred Stock', 'IPO:\\xa08/19/2021\\xa0\\xa0\\xa0\\n\\n\\n\\t\\xa0\\xa0\\xa0IPO Prospectus @ SEC EDGAR\\n\\t\\n\\t\\t\\xa0\\xa0\\xa0Call Date:\\xa08/23/2026', 'NCM\\nChart', 'Pfd Stock'], ['PMT-C70931T509', 'PennyMac Mortgage Investment Trust, 6.75% Series C Cumulative Preferred Shares', 'IPO:\\xa08/17/2021\\xa0\\xa0\\xa0\\n\\n\\n\\t\\xa0\\xa0\\xa0IPO Prospectus @ SEC EDGAR\\n\\t\\n\\t\\t\\xa0\\xa0\\xa0Call Date:\\xa08/24/2026', 'NYSE\\nChart', 'Pfd Stock'], ['TGH-B88314W303', 'Textainer Group Holdings Ltd 6.25% Series B Cumulative  Preference Shares', 'IPO:\\xa08/16/2021\\xa0\\xa0\\xa0\\n\\n\\n\\t\\xa0\\xa0\\xa0IPO Prospectus @ SEC EDGAR\\n\\t\\n\\t\\t\\xa0\\xa0\\xa0Call Date:\\xa012/15/2026', 'NYSE\\nChart', 'Pfd Stock'], ['CNOBP20786W503', 'ConnectOne Bancorp, Inc. Dep Shares Reset Rate Non-Cumul Preferred Stock Ser A', 'IPO:\\xa08/13/2021\\xa0\\xa0\\xa0\\n\\n\\n\\t\\xa0\\xa0\\xa0IPO Prospectus @ SEC EDGAR\\n\\t\\n\\t\\t\\xa0\\xa0\\xa0Call Date:\\xa09/01/2026', 'NGS\\nChart', 'Pfd Stock'], ['GAINZ376546883', 'Gladstone Investment Corp. 4.875% Notes Due 11/01/2028', 'IPO:\\xa08/12/2021\\xa0\\xa0\\xa0\\n\\n\\n\\t\\xa0\\xa0\\xa0IPO Prospectus @ SEC EDGAR\\n\\t\\n\\t\\t\\xa0\\xa0\\xa0Call Date:\\xa011/01/2023', 'NGS\\nChart', 'E/T Debt Sec.'], ['TRTN-EG9078F156', 'Triton International Ltd. 5.75% Ser E Cumul Redeemable Perp Preference Shares', 'IPO:\\xa08/11/2021\\xa0\\xa0\\xa0\\n\\n\\n\\t\\xa0\\xa0\\xa0IPO Prospectus @ SEC EDGAR\\n\\t\\n\\t\\t\\xa0\\xa0\\xa0Call Date:\\xa09/15/2026', 'NYSE\\nChart', 'Pfd Stock'], ['SymbolCUSIP', 'Security', 'IPO Date', 'StockExchange', 'SecurityType', ''], ['1 \\n\\t\\t\\t\\t\\t\\t\\t2\\n3\\n4\\n5\\n \\n\\nPage: 1 of 10'], ['Disclaimer - This list is intended to be complete and correct to the best our ability but the information is not guaranteed.  The list is provided solely for the convenience of the QuantumOnline user and should be considered by the user as only a general source of information, not as a final authority on any particular information provided on the list.  We definitely recommend checking the information with additional sources to confirm its correctness before actually purchasing any security based on the above information.'], ['', '', '', '', '', '', '', '', '', '', '', '', '', ''], ['', ''], ['', '', '', '', '', '', '', ''], ['', '', '', '', '', '', '', '', ''], ['', '', '', '', '', '', '']]\n"
     ]
    }
   ],
   "source": [
    "# Create empty lists for the table headers and rows\n",
    "header_list = []\n",
    "row_list = []\n",
    "\n",
    "# Find all table rows\n",
    "tables = ipo_soup.find_all('tr')\n",
    "\n",
    "# Loop through the table rows\n",
    "for i, row in enumerate(tables):\n",
    "    # Find all table cells (td) and table headers (th) within the row\n",
    "    cells = row.find_all(['td', 'th'])\n",
    "    # If this is the first row, treat it as the header row\n",
    "    if i == 0:\n",
    "        # Extract the text from each cell and append to the header list\n",
    "        header_list = [cell.text.strip() for cell in cells]\n",
    "    else:\n",
    "        # Extract the text from each cell and append to the row list\n",
    "        row_data = [cell.text.strip() for cell in cells]\n",
    "        row_list.append(row_data)\n",
    "\n",
    "# Print the header and row lists\n",
    "print(header_list)\n",
    "print(row_list)\n"
   ]
  },
  {
   "cell_type": "code",
   "execution_count": 67,
   "id": "b7724322",
   "metadata": {},
   "outputs": [],
   "source": [
    "### Grab relevant info from scrape and convert to pandas DataFrame"
   ]
  },
  {
   "cell_type": "code",
   "execution_count": 134,
   "id": "335fb125",
   "metadata": {},
   "outputs": [
    {
     "data": {
      "text/html": [
       "<div>\n",
       "<style scoped>\n",
       "    .dataframe tbody tr th:only-of-type {\n",
       "        vertical-align: middle;\n",
       "    }\n",
       "\n",
       "    .dataframe tbody tr th {\n",
       "        vertical-align: top;\n",
       "    }\n",
       "\n",
       "    .dataframe thead th {\n",
       "        text-align: right;\n",
       "    }\n",
       "</style>\n",
       "<table border=\"1\" class=\"dataframe\">\n",
       "  <thead>\n",
       "    <tr style=\"text-align: right;\">\n",
       "      <th></th>\n",
       "      <th>SymbolCUSIP</th>\n",
       "      <th>Security</th>\n",
       "      <th>IPO Date</th>\n",
       "      <th>Stock Exchange</th>\n",
       "      <th>Security Type</th>\n",
       "    </tr>\n",
       "  </thead>\n",
       "  <tbody>\n",
       "    <tr>\n",
       "      <th>0</th>\n",
       "      <td>FTAIMG3730V147</td>\n",
       "      <td>FTAI Aviation Ltd Reset Rate Cumulative Series...</td>\n",
       "      <td>IPO: 3/08/2023   \\n\\n\\n\\t   IPO Prospectus @ S...</td>\n",
       "      <td>NGS\\nChart</td>\n",
       "      <td>Pfd Stock</td>\n",
       "    </tr>\n",
       "    <tr>\n",
       "      <th>1</th>\n",
       "      <td>JXNFV46817M206</td>\n",
       "      <td>Jackson Financial Inc Dep Shares Reset Rate Se...</td>\n",
       "      <td>IPO: 3/06/2023   \\n\\n\\n\\t   IPO Prospectus @ S...</td>\n",
       "      <td>OTOTC\\nChart</td>\n",
       "      <td>Pfd Stock</td>\n",
       "    </tr>\n",
       "    <tr>\n",
       "      <th>2</th>\n",
       "      <td>HBANL446150773</td>\n",
       "      <td>Huntington Bancshares Dep Shares Series J Rese...</td>\n",
       "      <td>IPO: 2/27/2023   \\n\\n\\n\\t   IPO Prospectus @ S...</td>\n",
       "      <td>NGS\\nChart</td>\n",
       "      <td>Pfd Stock</td>\n",
       "    </tr>\n",
       "    <tr>\n",
       "      <th>3</th>\n",
       "      <td>ASBA045487600</td>\n",
       "      <td>Associated Banc-Corp Reset Rate Subordinated N...</td>\n",
       "      <td>IPO: 2/06/2023   \\n\\n\\n\\t   IPO Prospectus @ S...</td>\n",
       "      <td>NYSE\\nChart</td>\n",
       "      <td>E/T Debt Sec.</td>\n",
       "    </tr>\n",
       "    <tr>\n",
       "      <th>4</th>\n",
       "      <td>EFC-C28852N406</td>\n",
       "      <td>Ellington Financial Inc. Series C Reset Rate C...</td>\n",
       "      <td>IPO: 2/02/2023   \\n\\n\\n\\t   IPO Prospectus @ S...</td>\n",
       "      <td>NYSE\\nChart</td>\n",
       "      <td>Pfd Stock</td>\n",
       "    </tr>\n",
       "  </tbody>\n",
       "</table>\n",
       "</div>"
      ],
      "text/plain": [
       "      SymbolCUSIP                                           Security  \\\n",
       "0  FTAIMG3730V147  FTAI Aviation Ltd Reset Rate Cumulative Series...   \n",
       "1  JXNFV46817M206  Jackson Financial Inc Dep Shares Reset Rate Se...   \n",
       "2  HBANL446150773  Huntington Bancshares Dep Shares Series J Rese...   \n",
       "3   ASBA045487600  Associated Banc-Corp Reset Rate Subordinated N...   \n",
       "4  EFC-C28852N406  Ellington Financial Inc. Series C Reset Rate C...   \n",
       "\n",
       "                                            IPO Date Stock Exchange  \\\n",
       "0  IPO: 3/08/2023   \\n\\n\\n\\t   IPO Prospectus @ S...     NGS\\nChart   \n",
       "1  IPO: 3/06/2023   \\n\\n\\n\\t   IPO Prospectus @ S...   OTOTC\\nChart   \n",
       "2  IPO: 2/27/2023   \\n\\n\\n\\t   IPO Prospectus @ S...     NGS\\nChart   \n",
       "3  IPO: 2/06/2023   \\n\\n\\n\\t   IPO Prospectus @ S...    NYSE\\nChart   \n",
       "4  IPO: 2/02/2023   \\n\\n\\n\\t   IPO Prospectus @ S...    NYSE\\nChart   \n",
       "\n",
       "   Security Type  \n",
       "0      Pfd Stock  \n",
       "1      Pfd Stock  \n",
       "2      Pfd Stock  \n",
       "3  E/T Debt Sec.  \n",
       "4      Pfd Stock  "
      ]
     },
     "execution_count": 134,
     "metadata": {},
     "output_type": "execute_result"
    }
   ],
   "source": [
    "# Find the starting index for 'SymbolCUSIP' in row_list\n",
    "start_index = None\n",
    "for i, row in enumerate(row_list):\n",
    "    if 'SymbolCUSIP' in row:\n",
    "        start_index = i\n",
    "        break\n",
    "\n",
    "# Remove all rows before the 'SymbolCUSIP' row (including the header row)\n",
    "data = row_list[start_index+1:]\n",
    "\n",
    "# Create a pandas DataFrame from the remaining rows\n",
    "IPO_df = pd.DataFrame(data)\n",
    "IPO_df=IPO_df.loc[:,[0,1,2,3,4]]\n",
    "IPO_df.columns=['SymbolCUSIP', 'Security', 'IPO Date', 'Stock Exchange', 'Security Type']\n",
    "IPO_df=IPO_df.loc[IPO_df['SymbolCUSIP']!= 'SymbolCUSIP']\n",
    "IPO_df.head()"
   ]
  },
  {
   "cell_type": "code",
   "execution_count": 135,
   "id": "d86caf86",
   "metadata": {},
   "outputs": [],
   "source": [
    "### Data cleaning (split IPO date into 2 columns: ipo date and call date, \n",
    "## move IPO Date so that it is next to call date)\n",
    "# ensure the tail end of the data is "
   ]
  },
  {
   "cell_type": "code",
   "execution_count": 136,
   "id": "3f8c3c62",
   "metadata": {},
   "outputs": [],
   "source": [
    "IPO_df.drop(IPO_df.tail(7).index, inplace = True)"
   ]
  },
  {
   "cell_type": "code",
   "execution_count": 137,
   "id": "f241ce07",
   "metadata": {},
   "outputs": [],
   "source": [
    "IPO_df[['IPO Date Two', 1,2,3,4, 'Call Date', 6,7,8,9,10]]=IPO_df[\"IPO Date\"].str.split(\" \", expand=True)"
   ]
  },
  {
   "cell_type": "code",
   "execution_count": 138,
   "id": "04916ed1",
   "metadata": {},
   "outputs": [],
   "source": [
    "IPO_df=IPO_df.drop([1,2,3,4,6,7,8,9,10], axis=1)"
   ]
  },
  {
   "cell_type": "code",
   "execution_count": 139,
   "id": "e71c0175",
   "metadata": {},
   "outputs": [],
   "source": [
    "IPO_df[\"IPO Date Two\"]= IPO_df[\"IPO Date Two\"].convert_dtypes()"
   ]
  },
  {
   "cell_type": "code",
   "execution_count": 140,
   "id": "5374bda8",
   "metadata": {},
   "outputs": [],
   "source": [
    "IPO_df[\"IPO Date\"]=IPO_df[\"IPO Date Two\"].str.slice(4,15)"
   ]
  },
  {
   "cell_type": "code",
   "execution_count": 141,
   "id": "8c39838e",
   "metadata": {},
   "outputs": [],
   "source": [
    "IPO_df[\"Call Date\"]= IPO_df[\"Call Date\"].convert_dtypes()"
   ]
  },
  {
   "cell_type": "code",
   "execution_count": 142,
   "id": "69f55f10",
   "metadata": {},
   "outputs": [],
   "source": [
    "IPO_df[\"Call Date\"]=IPO_df[\"Call Date\"].str.slice(6,16)"
   ]
  },
  {
   "cell_type": "code",
   "execution_count": 143,
   "id": "61615c98",
   "metadata": {},
   "outputs": [],
   "source": [
    "del IPO_df[\"IPO Date Two\"]"
   ]
  },
  {
   "cell_type": "code",
   "execution_count": 144,
   "id": "ae36684b",
   "metadata": {},
   "outputs": [],
   "source": [
    "IPO_df = IPO_df[['SymbolCUSIP', 'Security', 'IPO Date', 'Call Date', 'Stock Exchange', 'Security Type']]"
   ]
  },
  {
   "cell_type": "code",
   "execution_count": 145,
   "id": "1369ba47",
   "metadata": {},
   "outputs": [
    {
     "data": {
      "text/plain": [
       "SymbolCUSIP       object\n",
       "Security          object\n",
       "IPO Date          string\n",
       "Call Date         string\n",
       "Stock Exchange    object\n",
       "Security Type     object\n",
       "dtype: object"
      ]
     },
     "execution_count": 145,
     "metadata": {},
     "output_type": "execute_result"
    }
   ],
   "source": [
    "IPO_df.dtypes"
   ]
  },
  {
   "cell_type": "code",
   "execution_count": 146,
   "id": "f0eaefdb",
   "metadata": {},
   "outputs": [
    {
     "data": {
      "text/html": [
       "<div>\n",
       "<style scoped>\n",
       "    .dataframe tbody tr th:only-of-type {\n",
       "        vertical-align: middle;\n",
       "    }\n",
       "\n",
       "    .dataframe tbody tr th {\n",
       "        vertical-align: top;\n",
       "    }\n",
       "\n",
       "    .dataframe thead th {\n",
       "        text-align: right;\n",
       "    }\n",
       "</style>\n",
       "<table border=\"1\" class=\"dataframe\">\n",
       "  <thead>\n",
       "    <tr style=\"text-align: right;\">\n",
       "      <th></th>\n",
       "      <th>SymbolCUSIP</th>\n",
       "      <th>Security</th>\n",
       "      <th>IPO Date</th>\n",
       "      <th>Call Date</th>\n",
       "      <th>Stock Exchange</th>\n",
       "      <th>Security Type</th>\n",
       "    </tr>\n",
       "  </thead>\n",
       "  <tbody>\n",
       "    <tr>\n",
       "      <th>93</th>\n",
       "      <td>VNO-O929042794</td>\n",
       "      <td>Vornado Realty Trust 4.45% Series O Cumulative...</td>\n",
       "      <td>9/13/2021</td>\n",
       "      <td>9/22/2026</td>\n",
       "      <td>NYSE\\nChart</td>\n",
       "      <td>Pfd Stock</td>\n",
       "    </tr>\n",
       "    <tr>\n",
       "      <th>94</th>\n",
       "      <td>RITM-D64828T706</td>\n",
       "      <td>Rithm Capital Corp. Reset Rate Series D Cumula...</td>\n",
       "      <td>9/13/2021</td>\n",
       "      <td>11/15/2026</td>\n",
       "      <td>NYSE\\nChart</td>\n",
       "      <td>Pfd Stock</td>\n",
       "    </tr>\n",
       "    <tr>\n",
       "      <th>95</th>\n",
       "      <td>ADC-A008492209</td>\n",
       "      <td>Agree Realty Corp 4.250% Depositary Shares Ser...</td>\n",
       "      <td>9/08/2021</td>\n",
       "      <td>9/17/2026</td>\n",
       "      <td>NYSE\\nChart</td>\n",
       "      <td>Pfd Stock</td>\n",
       "    </tr>\n",
       "    <tr>\n",
       "      <th>96</th>\n",
       "      <td>CHRB15957P204</td>\n",
       "      <td>Charah Solutions, Inc. 8.50% Senior Notes Due ...</td>\n",
       "      <td>9/01/2021</td>\n",
       "      <td>8/31/2023</td>\n",
       "      <td>NYSE\\nChart</td>\n",
       "      <td>E/T Debt Sec.</td>\n",
       "    </tr>\n",
       "    <tr>\n",
       "      <th>97</th>\n",
       "      <td>SLNHP583543202</td>\n",
       "      <td>Soluna Holdings, Inc. 9.0% Series A Cumulative...</td>\n",
       "      <td>8/19/2021</td>\n",
       "      <td>8/23/2026</td>\n",
       "      <td>NCM\\nChart</td>\n",
       "      <td>Pfd Stock</td>\n",
       "    </tr>\n",
       "    <tr>\n",
       "      <th>98</th>\n",
       "      <td>PMT-C70931T509</td>\n",
       "      <td>PennyMac Mortgage Investment Trust, 6.75% Seri...</td>\n",
       "      <td>8/17/2021</td>\n",
       "      <td>8/24/2026</td>\n",
       "      <td>NYSE\\nChart</td>\n",
       "      <td>Pfd Stock</td>\n",
       "    </tr>\n",
       "    <tr>\n",
       "      <th>99</th>\n",
       "      <td>TGH-B88314W303</td>\n",
       "      <td>Textainer Group Holdings Ltd 6.25% Series B Cu...</td>\n",
       "      <td>8/16/2021</td>\n",
       "      <td>12/15/2026</td>\n",
       "      <td>NYSE\\nChart</td>\n",
       "      <td>Pfd Stock</td>\n",
       "    </tr>\n",
       "    <tr>\n",
       "      <th>100</th>\n",
       "      <td>CNOBP20786W503</td>\n",
       "      <td>ConnectOne Bancorp, Inc. Dep Shares Reset Rate...</td>\n",
       "      <td>8/13/2021</td>\n",
       "      <td>9/01/2026</td>\n",
       "      <td>NGS\\nChart</td>\n",
       "      <td>Pfd Stock</td>\n",
       "    </tr>\n",
       "    <tr>\n",
       "      <th>101</th>\n",
       "      <td>GAINZ376546883</td>\n",
       "      <td>Gladstone Investment Corp. 4.875% Notes Due 11...</td>\n",
       "      <td>8/12/2021</td>\n",
       "      <td>11/01/2023</td>\n",
       "      <td>NGS\\nChart</td>\n",
       "      <td>E/T Debt Sec.</td>\n",
       "    </tr>\n",
       "    <tr>\n",
       "      <th>102</th>\n",
       "      <td>TRTN-EG9078F156</td>\n",
       "      <td>Triton International Ltd. 5.75% Ser E Cumul Re...</td>\n",
       "      <td>8/11/2021</td>\n",
       "      <td>9/15/2026</td>\n",
       "      <td>NYSE\\nChart</td>\n",
       "      <td>Pfd Stock</td>\n",
       "    </tr>\n",
       "  </tbody>\n",
       "</table>\n",
       "</div>"
      ],
      "text/plain": [
       "         SymbolCUSIP                                           Security  \\\n",
       "93    VNO-O929042794  Vornado Realty Trust 4.45% Series O Cumulative...   \n",
       "94   RITM-D64828T706  Rithm Capital Corp. Reset Rate Series D Cumula...   \n",
       "95    ADC-A008492209  Agree Realty Corp 4.250% Depositary Shares Ser...   \n",
       "96     CHRB15957P204  Charah Solutions, Inc. 8.50% Senior Notes Due ...   \n",
       "97    SLNHP583543202  Soluna Holdings, Inc. 9.0% Series A Cumulative...   \n",
       "98    PMT-C70931T509  PennyMac Mortgage Investment Trust, 6.75% Seri...   \n",
       "99    TGH-B88314W303  Textainer Group Holdings Ltd 6.25% Series B Cu...   \n",
       "100   CNOBP20786W503  ConnectOne Bancorp, Inc. Dep Shares Reset Rate...   \n",
       "101   GAINZ376546883  Gladstone Investment Corp. 4.875% Notes Due 11...   \n",
       "102  TRTN-EG9078F156  Triton International Ltd. 5.75% Ser E Cumul Re...   \n",
       "\n",
       "        IPO Date   Call Date Stock Exchange  Security Type  \n",
       "93    9/13/2021    9/22/2026    NYSE\\nChart      Pfd Stock  \n",
       "94    9/13/2021   11/15/2026    NYSE\\nChart      Pfd Stock  \n",
       "95    9/08/2021    9/17/2026    NYSE\\nChart      Pfd Stock  \n",
       "96    9/01/2021    8/31/2023    NYSE\\nChart  E/T Debt Sec.  \n",
       "97    8/19/2021    8/23/2026     NCM\\nChart      Pfd Stock  \n",
       "98    8/17/2021    8/24/2026    NYSE\\nChart      Pfd Stock  \n",
       "99    8/16/2021   12/15/2026    NYSE\\nChart      Pfd Stock  \n",
       "100   8/13/2021    9/01/2026     NGS\\nChart      Pfd Stock  \n",
       "101   8/12/2021   11/01/2023     NGS\\nChart  E/T Debt Sec.  \n",
       "102   8/11/2021    9/15/2026    NYSE\\nChart      Pfd Stock  "
      ]
     },
     "execution_count": 146,
     "metadata": {},
     "output_type": "execute_result"
    }
   ],
   "source": [
    "IPO_df.tail(10)"
   ]
  },
  {
   "cell_type": "code",
   "execution_count": 147,
   "id": "20c658fd",
   "metadata": {},
   "outputs": [
    {
     "data": {
      "text/html": [
       "<div>\n",
       "<style scoped>\n",
       "    .dataframe tbody tr th:only-of-type {\n",
       "        vertical-align: middle;\n",
       "    }\n",
       "\n",
       "    .dataframe tbody tr th {\n",
       "        vertical-align: top;\n",
       "    }\n",
       "\n",
       "    .dataframe thead th {\n",
       "        text-align: right;\n",
       "    }\n",
       "</style>\n",
       "<table border=\"1\" class=\"dataframe\">\n",
       "  <thead>\n",
       "    <tr style=\"text-align: right;\">\n",
       "      <th></th>\n",
       "      <th>SymbolCUSIP</th>\n",
       "      <th>Security</th>\n",
       "      <th>IPO Date</th>\n",
       "      <th>Stock Exchange</th>\n",
       "      <th>Security Type</th>\n",
       "      <th>Call Date</th>\n",
       "    </tr>\n",
       "  </thead>\n",
       "  <tbody>\n",
       "    <tr>\n",
       "      <th>0</th>\n",
       "      <td>FTVTVG3730V147</td>\n",
       "      <td>FTAI Aviation Ltd Reset Rate Cumulative Series...</td>\n",
       "      <td>3/08/2023</td>\n",
       "      <td>OTOTC\\nChart</td>\n",
       "      <td>Pfd Stock</td>\n",
       "      <td>6/15/28</td>\n",
       "    </tr>\n",
       "    <tr>\n",
       "      <th>1</th>\n",
       "      <td>JXNFV46817M206</td>\n",
       "      <td>Jackson Financial Inc Dep Shares Reset Rate Se...</td>\n",
       "      <td>3/06/2023</td>\n",
       "      <td>OTOTC\\nChart</td>\n",
       "      <td>Pfd Stock</td>\n",
       "      <td>3/30/28</td>\n",
       "    </tr>\n",
       "    <tr>\n",
       "      <th>2</th>\n",
       "      <td>HBANL446150773</td>\n",
       "      <td>Huntington Bancshares Dep Shares Series J Rese...</td>\n",
       "      <td>2/27/2023</td>\n",
       "      <td>NGS\\nChart</td>\n",
       "      <td>Pfd Stock</td>\n",
       "      <td>4/15/28</td>\n",
       "    </tr>\n",
       "    <tr>\n",
       "      <th>3</th>\n",
       "      <td>ASBA045487600</td>\n",
       "      <td>Associated Banc-Corp Reset Rate Subordinated N...</td>\n",
       "      <td>2/06/2023</td>\n",
       "      <td>NYSE\\nChart</td>\n",
       "      <td>E/T Debt Sec.</td>\n",
       "      <td>3/1/28</td>\n",
       "    </tr>\n",
       "    <tr>\n",
       "      <th>4</th>\n",
       "      <td>EFC-C28852N406</td>\n",
       "      <td>Ellington Financial Inc. Series C Reset Rate C...</td>\n",
       "      <td>2/02/2023</td>\n",
       "      <td>NYSE\\nChart</td>\n",
       "      <td>Pfd Stock</td>\n",
       "      <td>4/30/28</td>\n",
       "    </tr>\n",
       "  </tbody>\n",
       "</table>\n",
       "</div>"
      ],
      "text/plain": [
       "      SymbolCUSIP                                           Security  \\\n",
       "0  FTVTVG3730V147  FTAI Aviation Ltd Reset Rate Cumulative Series...   \n",
       "1  JXNFV46817M206  Jackson Financial Inc Dep Shares Reset Rate Se...   \n",
       "2  HBANL446150773  Huntington Bancshares Dep Shares Series J Rese...   \n",
       "3   ASBA045487600  Associated Banc-Corp Reset Rate Subordinated N...   \n",
       "4  EFC-C28852N406  Ellington Financial Inc. Series C Reset Rate C...   \n",
       "\n",
       "      IPO Date Stock Exchange  Security Type Call Date  \n",
       "0   3/08/2023    OTOTC\\nChart      Pfd Stock   6/15/28  \n",
       "1   3/06/2023    OTOTC\\nChart      Pfd Stock   3/30/28  \n",
       "2   2/27/2023      NGS\\nChart      Pfd Stock   4/15/28  \n",
       "3   2/06/2023     NYSE\\nChart  E/T Debt Sec.    3/1/28  \n",
       "4   2/02/2023     NYSE\\nChart      Pfd Stock   4/30/28  "
      ]
     },
     "execution_count": 147,
     "metadata": {},
     "output_type": "execute_result"
    }
   ],
   "source": [
    "# creating the date for yesterday and using it as a variable\n",
    "yesterdays_date=str((datetime.datetime.today() - datetime.timedelta(days=1)).strftime(\"%Y-%m-%d\"))\n",
    "\n",
    "# if you already have a date from yesterday then do this\n",
    "IPO_yesterday_df= pd.read_csv(\"iposOfIncomeSecurities_\"+yesterdays_date+\".csv\")\n",
    "\n",
    "#if you want a specific date then do this\n",
    "#IPO_yesterday_df= pd.read_csv(\"iposOfIncomeSecurities_2023-03-09.csv\")\n",
    "IPO_yesterday_df.head()\n"
   ]
  },
  {
   "cell_type": "code",
   "execution_count": 149,
   "id": "cf100136",
   "metadata": {},
   "outputs": [
    {
     "data": {
      "text/html": [
       "<div>\n",
       "<style scoped>\n",
       "    .dataframe tbody tr th:only-of-type {\n",
       "        vertical-align: middle;\n",
       "    }\n",
       "\n",
       "    .dataframe tbody tr th {\n",
       "        vertical-align: top;\n",
       "    }\n",
       "\n",
       "    .dataframe thead th {\n",
       "        text-align: right;\n",
       "    }\n",
       "</style>\n",
       "<table border=\"1\" class=\"dataframe\">\n",
       "  <thead>\n",
       "    <tr style=\"text-align: right;\">\n",
       "      <th></th>\n",
       "      <th>SymbolCUSIP</th>\n",
       "      <th>_merge</th>\n",
       "    </tr>\n",
       "  </thead>\n",
       "  <tbody>\n",
       "    <tr>\n",
       "      <th>0</th>\n",
       "      <td>FTAIMG3730V147</td>\n",
       "      <td>left_only</td>\n",
       "    </tr>\n",
       "    <tr>\n",
       "      <th>100</th>\n",
       "      <td>FTVTVG3730V147</td>\n",
       "      <td>right_only</td>\n",
       "    </tr>\n",
       "  </tbody>\n",
       "</table>\n",
       "</div>"
      ],
      "text/plain": [
       "        SymbolCUSIP      _merge\n",
       "0    FTAIMG3730V147   left_only\n",
       "100  FTVTVG3730V147  right_only"
      ]
     },
     "execution_count": 149,
     "metadata": {},
     "output_type": "execute_result"
    }
   ],
   "source": [
    "# checks to see if there are changes on the SymbolCUSIP\n",
    "\n",
    "IPO_delta_df=pd.merge(IPO_df[['SymbolCUSIP']],IPO_yesterday_df[['SymbolCUSIP']],on='SymbolCUSIP', how='outer', indicator=True)\n",
    "IPO_delta_df[IPO_delta_df['_merge'].isin(['left_only', 'right_only'])]"
   ]
  },
  {
   "cell_type": "code",
   "execution_count": 151,
   "id": "46c8ce0b",
   "metadata": {},
   "outputs": [
    {
     "data": {
      "text/html": [
       "<div>\n",
       "<style scoped>\n",
       "    .dataframe tbody tr th:only-of-type {\n",
       "        vertical-align: middle;\n",
       "    }\n",
       "\n",
       "    .dataframe tbody tr th {\n",
       "        vertical-align: top;\n",
       "    }\n",
       "\n",
       "    .dataframe thead th {\n",
       "        text-align: right;\n",
       "    }\n",
       "</style>\n",
       "<table border=\"1\" class=\"dataframe\">\n",
       "  <thead>\n",
       "    <tr style=\"text-align: right;\">\n",
       "      <th></th>\n",
       "      <th>Security</th>\n",
       "      <th>_merge</th>\n",
       "    </tr>\n",
       "  </thead>\n",
       "  <tbody>\n",
       "  </tbody>\n",
       "</table>\n",
       "</div>"
      ],
      "text/plain": [
       "Empty DataFrame\n",
       "Columns: [Security, _merge]\n",
       "Index: []"
      ]
     },
     "execution_count": 151,
     "metadata": {},
     "output_type": "execute_result"
    }
   ],
   "source": [
    "# if you want to check changes on security name update SymbolCUSIP to Security ( do in sep cell)\n",
    "# if nothing changes nothing shows\n",
    "IPO_delta_name=pd.merge(IPO_df[['Security']],IPO_yesterday_df[['Security']],on='Security', how='outer', indicator=True)\n",
    "IPO_delta_name[IPO_delta_name['_merge'].isin(['left_only', 'right_only'])]\n"
   ]
  },
  {
   "cell_type": "code",
   "execution_count": 100,
   "id": "30e3795b",
   "metadata": {},
   "outputs": [],
   "source": [
    "IPO_df.to_csv(\"iposOfIncomeSecurities_\"+datetime.datetime.today().strftime(\"%Y-%m-%d\")+\".csv\", index=False)"
   ]
  },
  {
   "cell_type": "code",
   "execution_count": 99,
   "id": "051bbc9f",
   "metadata": {},
   "outputs": [],
   "source": [
    "browser.quit()"
   ]
  },
  {
   "cell_type": "code",
   "execution_count": null,
   "id": "e5ebd82e",
   "metadata": {},
   "outputs": [],
   "source": []
  }
 ],
 "metadata": {
  "kernelspec": {
   "display_name": "Python 3 (ipykernel)",
   "language": "python",
   "name": "python3"
  },
  "language_info": {
   "codemirror_mode": {
    "name": "ipython",
    "version": 3
   },
   "file_extension": ".py",
   "mimetype": "text/x-python",
   "name": "python",
   "nbconvert_exporter": "python",
   "pygments_lexer": "ipython3",
   "version": "3.9.13"
  }
 },
 "nbformat": 4,
 "nbformat_minor": 5
}
