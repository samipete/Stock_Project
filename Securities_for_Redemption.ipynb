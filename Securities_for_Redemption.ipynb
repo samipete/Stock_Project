{
 "cells": [
  {
   "cell_type": "code",
   "execution_count": 1,
   "id": "70011166",
   "metadata": {},
   "outputs": [],
   "source": [
    "# import splinter and BeatifulSoup\n",
    "from splinter import Browser\n",
    "from bs4 import BeautifulSoup as soup\n",
    "from quant_up import user, password\n",
    "import time \n",
    "import datetime\n",
    "import pandas as pd"
   ]
  },
  {
   "cell_type": "code",
   "execution_count": null,
   "id": "49b99885",
   "metadata": {},
   "outputs": [],
   "source": [
    "### Navigate to quantum online,input credentials and navigate to securities for redemption "
   ]
  },
  {
   "cell_type": "code",
   "execution_count": 2,
   "id": "ce0a039d",
   "metadata": {},
   "outputs": [
    {
     "data": {
      "text/plain": [
       "'2023-03-16'"
      ]
     },
     "execution_count": 2,
     "metadata": {},
     "output_type": "execute_result"
    }
   ],
   "source": [
    "# confirm todays date\n",
    "datetime.datetime.today().strftime(\"%Y-%m-%d\")"
   ]
  },
  {
   "cell_type": "code",
   "execution_count": 3,
   "id": "7d23c17c",
   "metadata": {},
   "outputs": [],
   "source": [
    "# redemptions page reoutes to login, \n",
    "browser = Browser('chrome')"
   ]
  },
  {
   "cell_type": "code",
   "execution_count": 4,
   "id": "aeb579ea",
   "metadata": {},
   "outputs": [],
   "source": [
    "# Visit quantum https://www.quantumonline.com/stklist.cfm?type=Redemptions&RequestTimeout=60\n",
    "url = 'https://www.quantumonline.com/stklist.cfm?type=Redemptions&RequestTimeout=60'\n",
    "browser.visit(url)"
   ]
  },
  {
   "cell_type": "code",
   "execution_count": null,
   "id": "f0c25218",
   "metadata": {},
   "outputs": [],
   "source": []
  },
  {
   "cell_type": "code",
   "execution_count": 6,
   "id": "e98d66ed",
   "metadata": {},
   "outputs": [],
   "source": [
    "browser.quit()"
   ]
  },
  {
   "cell_type": "code",
   "execution_count": null,
   "id": "d4cdd22b",
   "metadata": {},
   "outputs": [],
   "source": []
  }
 ],
 "metadata": {
  "kernelspec": {
   "display_name": "Python 3 (ipykernel)",
   "language": "python",
   "name": "python3"
  },
  "language_info": {
   "codemirror_mode": {
    "name": "ipython",
    "version": 3
   },
   "file_extension": ".py",
   "mimetype": "text/x-python",
   "name": "python",
   "nbconvert_exporter": "python",
   "pygments_lexer": "ipython3",
   "version": "3.9.13"
  }
 },
 "nbformat": 4,
 "nbformat_minor": 5
}
