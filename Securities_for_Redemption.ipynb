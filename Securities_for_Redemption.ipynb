{
 "cells": [
  {
   "cell_type": "code",
   "execution_count": 8,
   "id": "70011166",
   "metadata": {},
   "outputs": [],
   "source": [
    "# import splinter and BeatifulSoup\n",
    "from splinter import Browser\n",
    "from bs4 import BeautifulSoup as soup\n",
    "from quant_up import user, password\n",
    "import time \n",
    "import datetime\n",
    "import pandas as pd"
   ]
  },
  {
   "cell_type": "code",
   "execution_count": 9,
   "id": "49b99885",
   "metadata": {},
   "outputs": [],
   "source": [
    "### Navigate to quantum online,input credentials and navigate to securities for redemption "
   ]
  },
  {
   "cell_type": "code",
   "execution_count": 10,
   "id": "ce0a039d",
   "metadata": {},
   "outputs": [
    {
     "data": {
      "text/plain": [
       "'2023-03-16'"
      ]
     },
     "execution_count": 10,
     "metadata": {},
     "output_type": "execute_result"
    }
   ],
   "source": [
    "# confirm todays date\n",
    "datetime.datetime.today().strftime(\"%Y-%m-%d\")"
   ]
  },
  {
   "cell_type": "code",
   "execution_count": 11,
   "id": "7d23c17c",
   "metadata": {},
   "outputs": [],
   "source": [
    "# redemptions page reoutes to login, \n",
    "browser = Browser('chrome')"
   ]
  },
  {
   "cell_type": "code",
   "execution_count": 12,
   "id": "aeb579ea",
   "metadata": {},
   "outputs": [],
   "source": [
    "# Visit quantum https://www.quantumonline.com/stklist.cfm?type=Redemptions&RequestTimeout=60\n",
    "url = 'https://www.quantumonline.com/stklist.cfm?type=Redemptions&RequestTimeout=60'\n",
    "browser.visit(url)"
   ]
  },
  {
   "cell_type": "code",
   "execution_count": 13,
   "id": "f0c25218",
   "metadata": {},
   "outputs": [],
   "source": [
    "# path to login click\n",
    "browser.find_by_xpath('/html/body/table[2]/tbody/tr/td[2]/font[2]/p[1]/b/a').click()"
   ]
  },
  {
   "cell_type": "code",
   "execution_count": 14,
   "id": "587ab57a",
   "metadata": {},
   "outputs": [],
   "source": [
    "# path to login click\n",
    "browser.find_by_xpath('/html/body/table/tbody/tr[2]/td/table/tbody/tr[3]/td[9]/a/img').click()\n"
   ]
  },
  {
   "cell_type": "code",
   "execution_count": 15,
   "id": "b8c89989",
   "metadata": {},
   "outputs": [],
   "source": [
    "#input user and pass\n",
    "\n",
    "browser.find_by_xpath('/html/body/table[2]/tbody/tr/td[2]/font/font/blockquote/center/font/table/tbody/tr[2]/td/input').fill(user)\n",
    "                      \n",
    "browser.find_by_xpath('/html/body/table[2]/tbody/tr/td[2]/font/font/blockquote/center/font/table/tbody/tr[3]/td/input').fill(password)\n",
    "\n",
    "# click\n",
    "browser.find_by_xpath('/html/body/table[2]/tbody/tr/td[2]/font/font/blockquote/center/font/table/tbody/tr[4]/td/input').click()\n"
   ]
  },
  {
   "cell_type": "code",
   "execution_count": 16,
   "id": "662870bd",
   "metadata": {},
   "outputs": [],
   "source": [
    "#path to special lists\n",
    "browser.find_by_xpath('/html/body/table[1]/tbody/tr[2]/td/table/tbody/tr[3]/td[6]/a/img').click()"
   ]
  },
  {
   "cell_type": "code",
   "execution_count": 17,
   "id": "630f833e",
   "metadata": {},
   "outputs": [],
   "source": [
    "#path to securities for redemptions\n",
    "browser.find_by_xpath('/html/body/font/table/tbody/tr/td[2]/font[2]/p[2]/b[2]/a').click()\n",
    "time.sleep(5)"
   ]
  },
  {
   "cell_type": "code",
   "execution_count": 18,
   "id": "d4cdd22b",
   "metadata": {},
   "outputs": [],
   "source": [
    "### SCRAPE"
   ]
  },
  {
   "cell_type": "code",
   "execution_count": 19,
   "id": "b2e80531",
   "metadata": {},
   "outputs": [],
   "source": [
    "#scrape\n",
    "html=browser.html\n",
    "redemption_soup = soup(html, 'html.parser')"
   ]
  },
  {
   "cell_type": "code",
   "execution_count": 20,
   "id": "f88e2e68",
   "metadata": {},
   "outputs": [
    {
     "name": "stdout",
     "output_type": "stream",
     "text": [
      "['Quick Search\\n\\n\\n\\n\\nby Ticker Symbol\\nby CUSIP Number\\nSymbol Lookup', 'Quick Search', '', 'by Ticker Symbol\\nby CUSIP Number\\nSymbol Lookup', '', 'Welcome, \\xa0\\xa0\\xa0Sarah Peterson \\n\\t\\t\\t,\\xa0\\xa0\\xa0  Non-Contributor (Please click here to make a contribution) \\n\\t\\t\\t\\n\\t\\t\\tDays of use: 7', '348304', '']\n",
      "[['Quick Search'], [''], ['by Ticker Symbol\\nby CUSIP Number\\nSymbol Lookup'], [''], [''], ['', '', '', '', '', '', '', '', '', '', '', '', '', '', '', '', '', '', '', '', '', '', '', '', '', '', '', '', ''], ['', '', '', '', '', '', '', '', '', '', ''], ['', ''], ['', '', '', '', '', '', '', '', '', '', ''], ['', ''], ['', ''], ['Securities Called for Redemption'], [\"A list of 2690 preferred and other income securities that have been called for redemption since April 2002.  The Original Call Date column shows the date originally specified in the security's prospectus as the redemption (call) date while the Actual Call Date column shows the date that the security was actually called for redemption by the issuer.  The * after the ticker symbol indicates that the symbol is obsolete and no longer quoted on the stock exchanges.  To see the information we have on the issue, click on the ticker symbol which will produce our information page on the security.  If you know of other issues that have been called for redemption, please let us know by email (click on the Feedback button at the bottom of the page) and we will be happy to add them to the list.\"], ['Please Contribute\\n\\nThe QuantumOnline website is completely supported by voluntary user contributions.  The data you are accessing on our website represents tens of thousands of hours of work and a substantial outlay in terms of dollars.  For the QuantumOnline website to be succcessful and to continue, we neeed repeated contributions from our active users.  If our data is useful and profitable to you in your income investing efforts, please in turn help support our efforts to provide you with the best income investing information available on the web.\\nPlease click here to contribute'], ['Select # of records per page : 50100ALL'], ['Page: 1 of 27 \\n\\n\\t\\t\\t\\t\\n\\t\\t\\t\\t1 \\n\\t\\t\\t\\t\\t\\t\\t2\\n3\\n4\\n5\\n10 & HIGHER'], ['Symbol', 'Security', 'OriginalCall Date', 'ActualDate\\xa0Called'], ['ALL-G', 'Allstate Corp., 5.625% Dep Shares Non-Cumulative Perp Preferred Stock Series G', '4/15/23', '4/17/23'], ['RJF-A', 'Raymond James Financial, 6.75% Dep Sh Fix/Float Ser A Non-Cumul Perp Pfd Stock', '4/01/23', '4/03/23'], ['PSBZP', 'PS Business Parks, 4.875% Dep Shares Cumulative Preferred Stock, Series Z', '11/04/24', '3/29/23'], ['PSBYP', 'PS Business Parks, 5.20% Dep Shares Cumulative Preferred Stock Series Y', '12/07/22', '3/29/23'], ['PSBXP', 'PS Business Parks, 5.25% Dep Shares Cumulative Preferred Stock Series X', '9/21/22', '3/29/23'], ['CMCTP*', 'Creative Media & Community Trust Corp, 5.50% Series L Preferred Stock', '11/20/21', '1/25/23'], ['PFXNL*', 'PhenixFIN Corp., 6.125% Senior Notes due 3/30/2023', '3/30/16', '1/17/23'], ['IPWLP*', 'Indianapolis Power & Light Co., 4.00% Series Cumul Preferred Stock', '', '12/30/22'], ['IPWLO*', 'Indianapolis Power & Light Co., 4.20% Series Cumul Preferred Stock', '', '12/30/22'], ['IPWLN*', 'Indianapolis Power & Light Co., 4.80% Series Cumul Preferred Stock', '', '12/30/22'], ['IPWLK*', 'Indianapolis Power & Light Co., 5.65% Series Cumul Preferred Stock', '1/01/08', '12/30/22'], ['IPWLG*', 'Indianapolis Power & Light Co., 4.60% Series Cumul Preferred Stock', '', '12/30/22'], ['MH-D*', 'Maiden Holdings Ltd, 6.70% Non-Cumulative Preference Shares Series D', '6/15/22', '12/27/22'], ['MH-C*', 'Maiden Holdings Ltd, 7.125% Non-Cumulative Preference Shares Series C', '12/15/20', '12/27/22'], ['MH-A*', 'Maiden Holdings Ltd, 8.25% Non-Cumulative Preference Shares Series A', '8/29/17', '12/27/22'], ['RZA*', 'Reinsurance Group of America, 6.20% Fixed/Float Sub Debentures due 9/15/2042', '9/15/22', '12/15/22'], ['TEMP80*', 'Charles Schwab Corp., 7.00% Fixed/Float Rate Non-Cumul Perp Preferred Stock A', '2/01/22', '11/01/22'], ['PNC-P*', 'PNC Financial Services Group, 6.125% Dep Shares Fixed/Float Non-cum Pfd Stock P', '5/01/22', '11/01/22'], ['JFTTL*', 'JPMorgan Chase & Co., 7.90% Fixed/Float Dep Shares Non-Cumul Preferred Stock I', '4/30/18', '10/31/22'], ['BRG-D*', 'Bluerock Residential Growth REIT, 7.125% Series D Cumulative Preferred Stock', '10/13/21', '10/07/22'], ['BRG-C*', 'Bluerock Residential Growth REIT, 7.625% Series C Cumulative Red Preferred Stock', '7/19/21', '10/07/22'], ['CBKPP*', 'CoBank ACB, 6.25% Fixed to Floating Non-cumul Perpetual Preferred Stock Series F', '10/01/22', '10/01/22'], ['ALP-Q*', 'Alabama Power Co., 5.00% Class A Cumulative Preferred Stock', '10/01/22', '10/01/22'], ['INSW-A*', 'International Seaways, 8.50% Senior Notes due 6/30/2023', '6/30/20', '8/05/22'], ['UMH-C*', 'UMH Properties, 6.75% Series C Cumulative Redeemable Preferred Stock', '7/26/22', '7/26/22'], ['Symbol', 'Security', 'OriginalCall Date', 'ActualDate\\xa0Called'], ['GSLD*', 'Global Ship Lease, Inc. 8.00% Senior Notes Due 12/31/2024', '12/31/22', '7/18/22'], ['SAK*', 'Saratoga Investment Corp 7.25% Notes due 6/30/2025', '6/24/22', '7/14/22'], ['WTREP*', 'Arch Capital Group Ltd., 8.50% Cumulative Redeemable Preference Shares', '6/30/19', '7/13/22'], ['APRDP*', 'Alabama Power Co., 4.72% Series Cumulative Preferred Stock', '', '6/21/22'], ['APRDO*', 'Alabama Power Co., 4.64% Series Cumulative Preferred Stock', '', '6/21/22'], ['APRDN*', 'Alabama Power Co., 4.20% Series Cumulative Preferred Stock', '', '6/21/22'], ['APRDM*', 'Alabama Power Co., 4.92% Series Cumulative Preferred Stock', '', '6/21/22'], ['APRCP*', 'Alabama Power Co., 4.52% Series Cumulative Preferred Stock', '', '6/21/22'], ['ALPVN*', 'Alabama Power Co., 4.60% Series Cumulative Preferred Stock', '', '6/21/22'], ['ENBBF*', 'Enbridge Inc. Cumulative Redeemable Reset Rate Preference Shares, Series J', '6/01/22', '6/01/22'], ['AMH-F*', 'American Homes 4 Rent, 5.875% Series F Cumulative Redeem Perp Preferred Shares', '4/24/22', '5/05/22'], ['HGH*', 'Hartford Financial Services Group, 7.875% Fixed/Float, Jr Sub Debentures 4/15/42', '4/15/22', '4/15/22'], ['GBLL*', 'Global Indemnity Group, LLC 7.875% Subordinated Notes due 4/15/2047', '4/15/22', '4/15/22'], ['BANC-E*', 'Banc of California, 7.00% Dep Shares Non-Cumul Perp Preferred Stock Series E', '3/15/21', '3/15/22'], ['GGZ-A*', 'Gabelli Global Small and Mid Cap Value Trust, 5.45% Ser A Cumul Preferred Shares', '5/10/21', '2/28/22'], ['ECCB*', 'Eagle Point Credit Co., 7.75% Series B Cumul Term Preferred Stock due 10/30/2026', '10/30/21', '2/28/22'], ['MNR-C*', 'Monmouth Real Estate Investment, 6.125% Series C Cumul Redeem Preferred Stock', '9/15/21', '2/17/22'], ['ECCY*', 'Eagle Point Credit Co., 6.75% Notes due 9/30/2027', '9/30/20', '2/14/22'], ['GUT-A*', 'Gabelli Utility Trust, Inc., 5.625% Series A Cumulative Preferred Shares', '7/31/08', '1/31/22'], ['GDV-G*', 'Gabelli Dividend & Income Trust, 5.25% Series G Cumulative Preferred Shares', '7/01/21', '1/31/22'], ['GAB-J*', 'Gabelli Equity Trust, 5.45% Series J Cumulative Preferred Stock', '3/31/21', '1/31/22'], ['BSA*', 'BrightSphere Investment Group Inc, 5.125% Notes due 8/1/2031', '8/01/19', '1/18/22'], ['USB-M*', 'U.S. Bancorp, 6.50% Fixed/Float Dep Shares Non-Cumul Perp Preferred Stock, F', '1/15/22', '1/15/22'], ['CBKLP*', 'CoBank ACB, 6.125% Non-cumulative Perpetual Preferred Stock, Series G', '7/01/18', '1/01/22'], ['GWLOF*', 'Great West Lifeco, 5.90% Non-cumulative Frist Preferred Shares, Series F', '', '12/31/21'], ['Symbol', 'Security', 'OriginalCall Date', 'ActualDate\\xa0Called'], ['PSA-E*', 'Public Storage, 4.90% Dep Shares of Cumulative Preferred Share Series E', '10/14/21', '12/30/21'], ['PBC*', 'Prospect Capital Corp., 6.875% Notes due 6/15/2029', '12/15/21', '12/30/21'], ['PUK-A*', 'Prudential plc, 6.50% Perpetual Subordinated Capital Securities', '9/23/10', '12/23/21'], ['PUK-*', 'Prudential plc, 6.75% Perpetual Subordinated Capital Securities', '9/23/09', '12/23/21'], ['NEE-K*', 'NextEra Energy Capital Holdings, 5.25% Series K Jr Sub Debentures due 6/1/2076', '6/01/21', '12/22/21'], ['LMRKN*', 'Landmark Infrastructure Partners, Ser C Float/Fix Cumul Red Perp Preferred Units', '5/20/25', '12/22/21'], ['FCRW*', 'First Eagle Alternative Capital BDC, Inc., 6.125% Notes due 10/30/2023', '10/30/21', '12/22/21'], ['NYMTP*', 'New York Mortgage Trust, 7.75% Series B Cumulative Redeemable Preferred Stock', '6/04/18', '12/18/21'], ['WHFBZ*', 'WhiteHorse Finance, 6.50% Notes due 11/30/2025', '11/30/21', '12/17/21'], ['IPLDP*', 'Interstate Power & Light, 5.10% Series D Cumulative Perpetual Preferred Stock', '3/15/18', '12/15/21'], ['DTY*', 'DTE Energy Co., 2016 Series F 6.00% Jr Subordinated Debentures due 12/15/2076', '12/15/21', '12/15/21'], ['JMPNZ*', 'JMP Group LLC, 6.875% Senior Notes due 9/30/2029', '9/30/21', '12/13/21'], ['OCCIP*', 'OFS Credit Company, 6.875% Series A Term Preferred Stock Due 3/31/2024', '3/31/21', '12/10/21'], ['COF-H*', 'Capital One Financial Corp., 6.00% Dep Shares Non-Cumul Perp Pfd Stock Series H', '12/01/21', '12/01/21'], ['COF-G*', 'Capital One Financial Corp., 5.20% Dep Shares Non-Cumul Perp Pfd Stock Series G', '12/01/21', '12/01/21'], ['FBPRP*', 'First BanCorp, 7.125% Non-Cumul Perp Monthly Income Preferred Stock, Series A', '4/30/06', '11/30/21'], ['FBPRO*', 'First BanCorp, 8.35% Non-Cumul Perp Monthly Income Preferred Stock, Series B', '10/31/07', '11/30/21'], ['FBPRN*', 'First BanCorp, 7.25% Non-Cumul Perp Monthly Income Preferred Stock, Series D', '1/31/09', '11/30/21'], ['FBPRM*', 'First BanCorp, 7.40% Non-Cumul Perp Monthly Income Preferred Stock, Series C', '6/30/08', '11/30/21'], ['FBPRL*', 'First BanCorp, 7.00% Non-Cumul Perp Monthly Income Preferred Stock, Series E', '9/30/10', '11/30/21'], ['POFPF*', 'Power Financial Corp 6.00%  Non-Cumulative First Preferred Shares, Series  I', '4/30/12', '11/22/21'], ['OFSSI*', 'OFS Capital Corp., 5.95% Notes due 10/31/2026', '10/31/21', '11/22/21'], ['WALA*', 'Western Alliance Bancorporation, 6.25% Subordinated Debentures due 7/1/2056', '7/01/21', '11/15/21'], ['PNNTG*', 'PennantPark Investment Corp., 5.50% Notes due 10/15/2024', '10/15/21', '11/13/21'], ['PSB-W*', 'PS Business Parks, 5.20% Dep Shares Cumulative Preferred Stock Series W', '10/20/21', '11/03/21'], ['Symbol', 'Security', 'OriginalCall Date', 'ActualDate\\xa0Called'], ['FDUSZ*', 'Fidus Investment Corp., 6.00% Notes due 2/15/2024', '2/15/21', '11/02/21'], ['FDUSG*', 'Fidus Investment Corp., 5.375% Notes due 11/1/2024', '11/01/21', '11/02/21'], ['OFSSG*', 'OFS Capital Corp. 6.25% Notes due 9/30/2023', '9/30/21', '11/01/21'], ['GLADL*', 'Gladstone Capital Corp. 5.375% Notes due 11/01/2024', '11/01/21', '11/01/21'], ['BPOPN*', 'Popular Capital Trust I, 6.70% Cumul Monthly Income Trust Preferred Securities', '11/01/08', '11/01/21'], ['RILYI*', 'B. Riley Financial, 6.875% Senior Notes due 9/30/2023', '9/30/20', '10/22/21'], ['SOJB*', 'Southern Co., 5.25% Series 2016A Junior Subordinated Notes due 10/1/2076', '10/01/21', '10/18/21'], ['NNN-F*', 'National Retail Properties, 5.20% Series F Cumulative Redeemable Preferred Stock', '10/11/21', '10/16/21'], ['HBANN*', 'Huntington Bancshares, 5.875% Dep Shares Non-Cumul Perp Preferred Stock Series C', '2/04/18', '10/15/21'], ['ALLY-A*', 'GMAC Capital Trust I, 8.125% Fixed Rate/Floating Rate Trust Pfd Sec, Series 2', '2/15/16', '10/15/21'], ['TDA***', 'Telephone and Data Systems, 5.875% Senior Notes due 12/1/2061', '12/01/17', '10/14/21'], ['VNO-K*', 'Vornado Realty Trust, 5.70% Series K Cumulative Redeemable Preferred Shares', '7/18/17', '10/13/21'], ['PRIF-E*', 'Priority Income Fund, 6.375% Series E Term Preferred Stock Due 12/31/2024', '10/07/21', '10/08/21'], ['DUKH*', 'Duke Energy Corp., 5.125% Junior Subordinated Debentures due 1/15/2073', '1/15/18', '10/07/21'], ['FPI-B*', 'Farmland Partners, 6.00% Series B Cumulative Participating Preferred Stock', '9/30/21', '10/04/21'], ['INBKL*', 'First Internet Bancorp, 6.00% Fixed-to-Floating Rate Sub Notes due 9/30/2026', '9/30/21', '9/30/21'], ['IFCPF*', 'Intact Financial Corp Floating Rate Non-Cumulative Class A Shares Series 4', '9/30/21', '9/30/21'], ['ACGLP*', 'Arch Capital Group Ltd, 5.25% Dep Shares Non-Cumul Preferred Shares, Series E', '9/29/21', '9/30/21'], ['SLFYF*', 'Sun Life Financial 4.75% Non-Cumulative Preferred Class A Series 1 (Canada)', '3/30/14', '9/29/21'], ['SLFSF*', 'Sun Life Financial Inc. 4.80% Non-Cumulative Class A Series 2 Preferred Stock', '3/19/14', '9/29/21'], ['AGO-F*', 'Assured Guaranty Municipal Holdings Inc., 5.60% Notes 7/15/2103', '7/31/08', '9/27/21'], ['AGO-E*', 'Assured Guaranty Municipal Holdings Inc., 6.25% Notes 11/1/2102', '11/26/07', '9/27/21'], ['GGO-A*', 'Gabelli Go Anywhere Trust, Series A Cumul Puttable Callable Preferred Shares', '8/26/21', '9/26/21'], ['CBB-B*', 'Cincinnati Bell Inc., 6 3/4% Dep Shares Cumul Convertible Preferred Stock', '4/05/00', '9/22/21'], ['WFC-X*', 'Wells Fargo & Co., 5.50% Dep Shares Non-Cumul Class A Preferred Stock Series X', '9/15/21', '9/15/21'], ['Symbol', 'Security', 'OriginalCall Date', 'ActualDate\\xa0Called'], ['1 \\n\\t\\t\\t\\t\\t\\t\\t2\\n3\\n4\\n5\\n10 & HIGHER\\n \\n\\nPage: 1 of 27'], ['Disclaimer - This list is intended to be complete and correct to the best our ability but the information is not guaranteed.  The list is provided solely for the convenience of the QuantumOnline user and should be considered by the user as only a general source of information, not as a final authority on any particular information provided on the list.  We definitely recommend checking the information with additional sources to confirm its correctness before actually purchasing any security based on the above information.'], ['', '', '', '', '', '', '', '', '', '', '', '', '', ''], ['', ''], ['', '', '', '', '', '', '', ''], ['', '', '', '', '', '', '', '', ''], ['', '', '', '', '', '', '']]\n"
     ]
    }
   ],
   "source": [
    "# Create empty lists for the table headers and rows\n",
    "header_list = []\n",
    "row_list = []\n",
    "\n",
    "# Find all table rows\n",
    "tables = redemption_soup.find_all('tr')\n",
    "\n",
    "# Loop through the table rows\n",
    "for i, row in enumerate(tables):\n",
    "    # Find all table cells (td) and table headers (th) within the row\n",
    "    cells = row.find_all(['td', 'th'])\n",
    "    # If this is the first row, treat it as the header row\n",
    "    if i == 0:\n",
    "        # Extract the text from each cell and append to the header list\n",
    "        header_list = [cell.text.strip() for cell in cells]\n",
    "    else:\n",
    "        # Extract the text from each cell and append to the row list\n",
    "        row_data = [cell.text.strip() for cell in cells]\n",
    "        row_list.append(row_data)\n",
    "\n",
    "# Print the header and row lists\n",
    "print(header_list)\n",
    "print(row_list)\n"
   ]
  },
  {
   "cell_type": "code",
   "execution_count": 45,
   "id": "575b4fa3",
   "metadata": {},
   "outputs": [
    {
     "data": {
      "text/html": [
       "<div>\n",
       "<style scoped>\n",
       "    .dataframe tbody tr th:only-of-type {\n",
       "        vertical-align: middle;\n",
       "    }\n",
       "\n",
       "    .dataframe tbody tr th {\n",
       "        vertical-align: top;\n",
       "    }\n",
       "\n",
       "    .dataframe thead th {\n",
       "        text-align: right;\n",
       "    }\n",
       "</style>\n",
       "<table border=\"1\" class=\"dataframe\">\n",
       "  <thead>\n",
       "    <tr style=\"text-align: right;\">\n",
       "      <th></th>\n",
       "      <th>Symbol</th>\n",
       "      <th>Security</th>\n",
       "      <th>Original Call Date</th>\n",
       "      <th>Actual Date Called</th>\n",
       "    </tr>\n",
       "  </thead>\n",
       "  <tbody>\n",
       "    <tr>\n",
       "      <th>0</th>\n",
       "      <td>ALL-G</td>\n",
       "      <td>Allstate Corp., 5.625% Dep Shares Non-Cumulati...</td>\n",
       "      <td>4/15/23</td>\n",
       "      <td>4/17/23</td>\n",
       "    </tr>\n",
       "    <tr>\n",
       "      <th>1</th>\n",
       "      <td>RJF-A</td>\n",
       "      <td>Raymond James Financial, 6.75% Dep Sh Fix/Floa...</td>\n",
       "      <td>4/01/23</td>\n",
       "      <td>4/03/23</td>\n",
       "    </tr>\n",
       "    <tr>\n",
       "      <th>2</th>\n",
       "      <td>PSBZP</td>\n",
       "      <td>PS Business Parks, 4.875% Dep Shares Cumulativ...</td>\n",
       "      <td>11/04/24</td>\n",
       "      <td>3/29/23</td>\n",
       "    </tr>\n",
       "    <tr>\n",
       "      <th>3</th>\n",
       "      <td>PSBYP</td>\n",
       "      <td>PS Business Parks, 5.20% Dep Shares Cumulative...</td>\n",
       "      <td>12/07/22</td>\n",
       "      <td>3/29/23</td>\n",
       "    </tr>\n",
       "    <tr>\n",
       "      <th>4</th>\n",
       "      <td>PSBXP</td>\n",
       "      <td>PS Business Parks, 5.25% Dep Shares Cumulative...</td>\n",
       "      <td>9/21/22</td>\n",
       "      <td>3/29/23</td>\n",
       "    </tr>\n",
       "  </tbody>\n",
       "</table>\n",
       "</div>"
      ],
      "text/plain": [
       "  Symbol                                           Security  \\\n",
       "0  ALL-G  Allstate Corp., 5.625% Dep Shares Non-Cumulati...   \n",
       "1  RJF-A  Raymond James Financial, 6.75% Dep Sh Fix/Floa...   \n",
       "2  PSBZP  PS Business Parks, 4.875% Dep Shares Cumulativ...   \n",
       "3  PSBYP  PS Business Parks, 5.20% Dep Shares Cumulative...   \n",
       "4  PSBXP  PS Business Parks, 5.25% Dep Shares Cumulative...   \n",
       "\n",
       "  Original Call Date Actual Date Called  \n",
       "0            4/15/23            4/17/23  \n",
       "1            4/01/23            4/03/23  \n",
       "2           11/04/24            3/29/23  \n",
       "3           12/07/22            3/29/23  \n",
       "4            9/21/22            3/29/23  "
      ]
     },
     "execution_count": 45,
     "metadata": {},
     "output_type": "execute_result"
    }
   ],
   "source": [
    "# convert scrape to DataFrame; goal is to to have the td in 4 columns named \"Symbol\", \"Security\", \"Original Call Date\",\n",
    "## \"Actual Call Date\"\n",
    "# Find the starting index for 'Symbol' in row_list\n",
    "start_index = None\n",
    "for i, row in enumerate(row_list):\n",
    "    if 'Symbol' in row:\n",
    "        start_index = i\n",
    "        break\n",
    "\n",
    "# Remove all rows before the 'Symbol' row (including the header row)\n",
    "data = row_list[start_index+1:]\n",
    "\n",
    "# Create a pandas DataFrame from the remaining rows\n",
    "SFR_df = pd.DataFrame(data)\n",
    "#drop rows 4:13\n",
    "SFR_df = SFR_df.drop(SFR_df.columns[4:14], axis=1)\n",
    "#rename columns\n",
    "SFR_df.columns=['Symbol', 'Security', 'Original Call Date', 'Actual Date Called']\n",
    "SFR_df.head()\n"
   ]
  },
  {
   "cell_type": "code",
   "execution_count": 46,
   "id": "5d6e0279",
   "metadata": {},
   "outputs": [
    {
     "data": {
      "text/html": [
       "<div>\n",
       "<style scoped>\n",
       "    .dataframe tbody tr th:only-of-type {\n",
       "        vertical-align: middle;\n",
       "    }\n",
       "\n",
       "    .dataframe tbody tr th {\n",
       "        vertical-align: top;\n",
       "    }\n",
       "\n",
       "    .dataframe thead th {\n",
       "        text-align: right;\n",
       "    }\n",
       "</style>\n",
       "<table border=\"1\" class=\"dataframe\">\n",
       "  <thead>\n",
       "    <tr style=\"text-align: right;\">\n",
       "      <th></th>\n",
       "      <th>Symbol</th>\n",
       "      <th>Security</th>\n",
       "      <th>Original Call Date</th>\n",
       "      <th>Actual Date Called</th>\n",
       "    </tr>\n",
       "  </thead>\n",
       "  <tbody>\n",
       "    <tr>\n",
       "      <th>99</th>\n",
       "      <td>AGO-E*</td>\n",
       "      <td>Assured Guaranty Municipal Holdings Inc., 6.25...</td>\n",
       "      <td>11/26/07</td>\n",
       "      <td>9/27/21</td>\n",
       "    </tr>\n",
       "    <tr>\n",
       "      <th>100</th>\n",
       "      <td>GGO-A*</td>\n",
       "      <td>Gabelli Go Anywhere Trust, Series A Cumul Putt...</td>\n",
       "      <td>8/26/21</td>\n",
       "      <td>9/26/21</td>\n",
       "    </tr>\n",
       "    <tr>\n",
       "      <th>101</th>\n",
       "      <td>CBB-B*</td>\n",
       "      <td>Cincinnati Bell Inc., 6 3/4% Dep Shares Cumul ...</td>\n",
       "      <td>4/05/00</td>\n",
       "      <td>9/22/21</td>\n",
       "    </tr>\n",
       "    <tr>\n",
       "      <th>102</th>\n",
       "      <td>WFC-X*</td>\n",
       "      <td>Wells Fargo &amp; Co., 5.50% Dep Shares Non-Cumul ...</td>\n",
       "      <td>9/15/21</td>\n",
       "      <td>9/15/21</td>\n",
       "    </tr>\n",
       "    <tr>\n",
       "      <th>103</th>\n",
       "      <td>Symbol</td>\n",
       "      <td>Security</td>\n",
       "      <td>OriginalCall Date</td>\n",
       "      <td>ActualDate Called</td>\n",
       "    </tr>\n",
       "  </tbody>\n",
       "</table>\n",
       "</div>"
      ],
      "text/plain": [
       "     Symbol                                           Security  \\\n",
       "99   AGO-E*  Assured Guaranty Municipal Holdings Inc., 6.25...   \n",
       "100  GGO-A*  Gabelli Go Anywhere Trust, Series A Cumul Putt...   \n",
       "101  CBB-B*  Cincinnati Bell Inc., 6 3/4% Dep Shares Cumul ...   \n",
       "102  WFC-X*  Wells Fargo & Co., 5.50% Dep Shares Non-Cumul ...   \n",
       "103  Symbol                                           Security   \n",
       "\n",
       "    Original Call Date Actual Date Called  \n",
       "99            11/26/07            9/27/21  \n",
       "100            8/26/21            9/26/21  \n",
       "101            4/05/00            9/22/21  \n",
       "102            9/15/21            9/15/21  \n",
       "103  OriginalCall Date  ActualDate Called  "
      ]
     },
     "execution_count": 46,
     "metadata": {},
     "output_type": "execute_result"
    }
   ],
   "source": [
    "## Data cleaning: drop unneccessary rows \n",
    "SFR_df.drop(SFR_df.tail(7).index, inplace = True)\n",
    "SFR_df.tail()"
   ]
  },
  {
   "cell_type": "code",
   "execution_count": 47,
   "id": "9741baec",
   "metadata": {},
   "outputs": [
    {
     "data": {
      "text/html": [
       "<div>\n",
       "<style scoped>\n",
       "    .dataframe tbody tr th:only-of-type {\n",
       "        vertical-align: middle;\n",
       "    }\n",
       "\n",
       "    .dataframe tbody tr th {\n",
       "        vertical-align: top;\n",
       "    }\n",
       "\n",
       "    .dataframe thead th {\n",
       "        text-align: right;\n",
       "    }\n",
       "</style>\n",
       "<table border=\"1\" class=\"dataframe\">\n",
       "  <thead>\n",
       "    <tr style=\"text-align: right;\">\n",
       "      <th></th>\n",
       "      <th>Symbol</th>\n",
       "      <th>Security</th>\n",
       "      <th>Original Call Date</th>\n",
       "      <th>Actual Date Called</th>\n",
       "    </tr>\n",
       "  </thead>\n",
       "  <tbody>\n",
       "    <tr>\n",
       "      <th>99</th>\n",
       "      <td>AGO-E*</td>\n",
       "      <td>Assured Guaranty Municipal Holdings Inc., 6.25...</td>\n",
       "      <td>11/26/07</td>\n",
       "      <td>9/27/21</td>\n",
       "    </tr>\n",
       "    <tr>\n",
       "      <th>100</th>\n",
       "      <td>GGO-A*</td>\n",
       "      <td>Gabelli Go Anywhere Trust, Series A Cumul Putt...</td>\n",
       "      <td>8/26/21</td>\n",
       "      <td>9/26/21</td>\n",
       "    </tr>\n",
       "    <tr>\n",
       "      <th>101</th>\n",
       "      <td>CBB-B*</td>\n",
       "      <td>Cincinnati Bell Inc., 6 3/4% Dep Shares Cumul ...</td>\n",
       "      <td>4/05/00</td>\n",
       "      <td>9/22/21</td>\n",
       "    </tr>\n",
       "    <tr>\n",
       "      <th>102</th>\n",
       "      <td>WFC-X*</td>\n",
       "      <td>Wells Fargo &amp; Co., 5.50% Dep Shares Non-Cumul ...</td>\n",
       "      <td>9/15/21</td>\n",
       "      <td>9/15/21</td>\n",
       "    </tr>\n",
       "    <tr>\n",
       "      <th>103</th>\n",
       "      <td>Symbol</td>\n",
       "      <td>Security</td>\n",
       "      <td>OriginalCall Date</td>\n",
       "      <td>ActualDate Called</td>\n",
       "    </tr>\n",
       "  </tbody>\n",
       "</table>\n",
       "</div>"
      ],
      "text/plain": [
       "     Symbol                                           Security  \\\n",
       "99   AGO-E*  Assured Guaranty Municipal Holdings Inc., 6.25...   \n",
       "100  GGO-A*  Gabelli Go Anywhere Trust, Series A Cumul Putt...   \n",
       "101  CBB-B*  Cincinnati Bell Inc., 6 3/4% Dep Shares Cumul ...   \n",
       "102  WFC-X*  Wells Fargo & Co., 5.50% Dep Shares Non-Cumul ...   \n",
       "103  Symbol                                           Security   \n",
       "\n",
       "    Original Call Date Actual Date Called  \n",
       "99            11/26/07            9/27/21  \n",
       "100            8/26/21            9/26/21  \n",
       "101            4/05/00            9/22/21  \n",
       "102            9/15/21            9/15/21  \n",
       "103  OriginalCall Date  ActualDate Called  "
      ]
     },
     "execution_count": 47,
     "metadata": {},
     "output_type": "execute_result"
    }
   ],
   "source": [
    "# define the regular expression to match the order of strings\n",
    "pattern = 'Symbol.*Security.*OriginalCall Date.*ActualDate Called'\n",
    "\n",
    "# filter the dataframe to drop the rows that match the pattern\n",
    "SFR_df = SFR_df[~SFR_df.astype(str).apply(lambda x: x.str.contains(pattern)).any(axis=1)]\n",
    "\n",
    "# display the updated dataframe\n",
    "SFR_df.tail()"
   ]
  },
  {
   "cell_type": "code",
   "execution_count": null,
   "id": "f239cf93",
   "metadata": {},
   "outputs": [],
   "source": []
  },
  {
   "cell_type": "code",
   "execution_count": 48,
   "id": "e98d66ed",
   "metadata": {},
   "outputs": [],
   "source": [
    "browser.quit()"
   ]
  },
  {
   "cell_type": "code",
   "execution_count": null,
   "id": "33f0bbb4",
   "metadata": {},
   "outputs": [],
   "source": []
  }
 ],
 "metadata": {
  "kernelspec": {
   "display_name": "Python 3 (ipykernel)",
   "language": "python",
   "name": "python3"
  },
  "language_info": {
   "codemirror_mode": {
    "name": "ipython",
    "version": 3
   },
   "file_extension": ".py",
   "mimetype": "text/x-python",
   "name": "python",
   "nbconvert_exporter": "python",
   "pygments_lexer": "ipython3",
   "version": "3.9.13"
  }
 },
 "nbformat": 4,
 "nbformat_minor": 5
}
